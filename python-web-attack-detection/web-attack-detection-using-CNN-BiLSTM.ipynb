{
  "cells": [
    {
      "cell_type": "markdown",
      "id": "9af1aa3b",
      "metadata": {
        "id": "9af1aa3b"
      },
      "source": [
        "# Web attack detection using CNN-BiLSTM neural network and CICIDS2017 dataset"
      ]
    },
    {
      "cell_type": "markdown",
      "id": "196e15c7",
      "metadata": {
        "id": "196e15c7"
      },
      "source": [
        "In this notebook we implement web attack detection using CNN-BiLSTM neural network and CICIDS2017 dataset, and compare this neural network performance to our previously developed Random Forest model (https://github.com/fisher85/ml-cybersecurity/blob/master/python-web-attack-detection/web-attack-detection.ipynb).\n",
        "\n",
        "Training data: https://github.com/fisher85/ml-cybersecurity/blob/master/python-web-attack-detection/datasets/web_attacks_balanced.zip\n",
        "\n",
        "Training dataset is the balanced dataset based on CICIDS2017: https://www.unb.ca/cic/datasets/ids-2017.html\n",
        "    \n",
        "Sources:\n",
        "- https://paperswithcode.com/paper/efficient-deep-cnn-bilstm-model-for-network\n",
        "- Jay Sinha and M. Manollas. 2020. Efficient Deep CNN-BiLSTM Model for Network Intrusion Detection. In Proceedings of the 2020 3rd International Conference on Artificial Intelligence and Pattern Recognition (AIPR 2020). Association for Computing Machinery, New York, NY, USA, 223–231. DOI:https://doi.org/10.1145/3430199.3430224.\n",
        "- https://github.com/razor08/Efficient-CNN-BiLSTM-for-Network-IDS/blob/master/NSL_KDD_Final.ipynb\n",
        "    "
      ]
    },
    {
      "cell_type": "markdown",
      "id": "5feb64ef",
      "metadata": {
        "id": "5feb64ef"
      },
      "source": [
        "## Data preprocessing"
      ]
    },
    {
      "cell_type": "code",
      "execution_count": 35,
      "id": "e52a8e96",
      "metadata": {
        "scrolled": false,
        "id": "e52a8e96"
      },
      "outputs": [],
      "source": [
        "from itertools import cycle\n",
        "import pickle\n",
        "import sys\n",
        "import time\n",
        "from typing import List, Tuple\n",
        "\n",
        "import matplotlib.pyplot as plt\n",
        "import numpy as np\n",
        "import pandas as pd\n",
        "from sklearn import metrics\n",
        "from sklearn.model_selection import StratifiedKFold\n",
        "from sklearn.model_selection import train_test_split\n",
        "import sklearn.preprocessing\n",
        "import tensorflow as tf\n",
        "import tensorflow.keras\n",
        "from tensorflow.keras.layers import Dense, Dropout, Activation\n",
        "from tensorflow.keras.layers import LSTM, Bidirectional, BatchNormalization, Convolution1D, MaxPooling1D, Reshape\n",
        "from tensorflow.keras.models import Sequential\n",
        "\n",
        "%matplotlib inline"
      ]
    },
    {
      "cell_type": "markdown",
      "id": "043d673a",
      "metadata": {
        "id": "043d673a"
      },
      "source": [
        "Download the dataset from Github to Google Colab and unzip it."
      ]
    },
    {
      "cell_type": "code",
      "execution_count": 36,
      "id": "d9a034c2",
      "metadata": {
        "id": "d9a034c2",
        "outputId": "2b8196ec-248f-4d26-f6ae-86c4d91457f9",
        "colab": {
          "base_uri": "https://localhost:8080/"
        }
      },
      "outputs": [
        {
          "output_type": "stream",
          "name": "stdout",
          "text": [
            "--2025-05-19 10:34:34--  https://github.com/fisher85/ml-cybersecurity/blob/master/python-web-attack-detection/datasets/web_attacks_balanced.zip?raw=true\n",
            "Resolving github.com (github.com)... 140.82.112.4\n",
            "Connecting to github.com (github.com)|140.82.112.4|:443... connected.\n",
            "HTTP request sent, awaiting response... 302 Found\n",
            "Location: https://github.com/fisher85/ml-cybersecurity/raw/refs/heads/master/python-web-attack-detection/datasets/web_attacks_balanced.zip [following]\n",
            "--2025-05-19 10:34:34--  https://github.com/fisher85/ml-cybersecurity/raw/refs/heads/master/python-web-attack-detection/datasets/web_attacks_balanced.zip\n",
            "Reusing existing connection to github.com:443.\n",
            "HTTP request sent, awaiting response... 302 Found\n",
            "Location: https://raw.githubusercontent.com/fisher85/ml-cybersecurity/refs/heads/master/python-web-attack-detection/datasets/web_attacks_balanced.zip [following]\n",
            "--2025-05-19 10:34:35--  https://raw.githubusercontent.com/fisher85/ml-cybersecurity/refs/heads/master/python-web-attack-detection/datasets/web_attacks_balanced.zip\n",
            "Resolving raw.githubusercontent.com (raw.githubusercontent.com)... 185.199.108.133, 185.199.110.133, 185.199.109.133, ...\n",
            "Connecting to raw.githubusercontent.com (raw.githubusercontent.com)|185.199.108.133|:443... connected.\n",
            "HTTP request sent, awaiting response... 200 OK\n",
            "Length: 695583 (679K) [application/zip]\n",
            "Saving to: ‘dataset.zip’\n",
            "\n",
            "dataset.zip         100%[===================>] 679.28K  --.-KB/s    in 0.04s   \n",
            "\n",
            "2025-05-19 10:34:35 (16.2 MB/s) - ‘dataset.zip’ saved [695583/695583]\n",
            "\n",
            "Archive:  dataset.zip\n",
            "  inflating: web_attacks_balanced.csv  \n"
          ]
        }
      ],
      "source": [
        "!wget https://github.com/fisher85/ml-cybersecurity/blob/master/python-web-attack-detection/datasets/web_attacks_balanced.zip?raw=true -O dataset.zip\n",
        "!unzip -u dataset.zip"
      ]
    },
    {
      "cell_type": "markdown",
      "id": "3ab1e404",
      "metadata": {
        "id": "3ab1e404"
      },
      "source": [
        "Load our dataset and separate it into feature vectors and labels. As explained in the previous work, 7 features (Flow ID, Source IP, Source Port, Destination IP, Destination Port, Protocol, Timestamp) are excluded from the dataset (see https://github.com/fisher85/ml-cybersecurity/blob/master/python-web-attack-detection/web-attack-detection.ipynb)."
      ]
    },
    {
      "cell_type": "code",
      "execution_count": 37,
      "id": "78746733",
      "metadata": {
        "id": "78746733",
        "outputId": "0f070c9c-9151-44ef-a03a-0995f0069bcb",
        "colab": {
          "base_uri": "https://localhost:8080/",
          "height": 617
        }
      },
      "outputs": [
        {
          "output_type": "error",
          "ename": "KeyError",
          "evalue": "'Label'",
          "traceback": [
            "\u001b[0;31m---------------------------------------------------------------------------\u001b[0m",
            "\u001b[0;31mKeyError\u001b[0m                                  Traceback (most recent call last)",
            "\u001b[0;32m/usr/local/lib/python3.11/dist-packages/pandas/core/indexes/base.py\u001b[0m in \u001b[0;36mget_loc\u001b[0;34m(self, key)\u001b[0m\n\u001b[1;32m   3804\u001b[0m         \u001b[0;32mtry\u001b[0m\u001b[0;34m:\u001b[0m\u001b[0;34m\u001b[0m\u001b[0;34m\u001b[0m\u001b[0m\n\u001b[0;32m-> 3805\u001b[0;31m             \u001b[0;32mreturn\u001b[0m \u001b[0mself\u001b[0m\u001b[0;34m.\u001b[0m\u001b[0m_engine\u001b[0m\u001b[0;34m.\u001b[0m\u001b[0mget_loc\u001b[0m\u001b[0;34m(\u001b[0m\u001b[0mcasted_key\u001b[0m\u001b[0;34m)\u001b[0m\u001b[0;34m\u001b[0m\u001b[0;34m\u001b[0m\u001b[0m\n\u001b[0m\u001b[1;32m   3806\u001b[0m         \u001b[0;32mexcept\u001b[0m \u001b[0mKeyError\u001b[0m \u001b[0;32mas\u001b[0m \u001b[0merr\u001b[0m\u001b[0;34m:\u001b[0m\u001b[0;34m\u001b[0m\u001b[0;34m\u001b[0m\u001b[0m\n",
            "\u001b[0;32mindex.pyx\u001b[0m in \u001b[0;36mpandas._libs.index.IndexEngine.get_loc\u001b[0;34m()\u001b[0m\n",
            "\u001b[0;32mindex.pyx\u001b[0m in \u001b[0;36mpandas._libs.index.IndexEngine.get_loc\u001b[0;34m()\u001b[0m\n",
            "\u001b[0;32mpandas/_libs/hashtable_class_helper.pxi\u001b[0m in \u001b[0;36mpandas._libs.hashtable.PyObjectHashTable.get_item\u001b[0;34m()\u001b[0m\n",
            "\u001b[0;32mpandas/_libs/hashtable_class_helper.pxi\u001b[0m in \u001b[0;36mpandas._libs.hashtable.PyObjectHashTable.get_item\u001b[0;34m()\u001b[0m\n",
            "\u001b[0;31mKeyError\u001b[0m: 'Label'",
            "\nThe above exception was the direct cause of the following exception:\n",
            "\u001b[0;31mKeyError\u001b[0m                                  Traceback (most recent call last)",
            "\u001b[0;32m<ipython-input-37-908a56defe55>\u001b[0m in \u001b[0;36m<cell line: 0>\u001b[0;34m()\u001b[0m\n\u001b[1;32m      1\u001b[0m \u001b[0mdata\u001b[0m \u001b[0;34m=\u001b[0m \u001b[0mpd\u001b[0m\u001b[0;34m.\u001b[0m\u001b[0mread_csv\u001b[0m\u001b[0;34m(\u001b[0m\u001b[0;34m'DDoS-SYN_Flood.pcap.csv'\u001b[0m\u001b[0;34m,\u001b[0m \u001b[0mdelimiter\u001b[0m\u001b[0;34m=\u001b[0m\u001b[0;34m','\u001b[0m\u001b[0;34m)\u001b[0m\u001b[0;34m\u001b[0m\u001b[0;34m\u001b[0m\u001b[0m\n\u001b[1;32m      2\u001b[0m \u001b[0;34m\u001b[0m\u001b[0m\n\u001b[0;32m----> 3\u001b[0;31m \u001b[0my\u001b[0m \u001b[0;34m=\u001b[0m \u001b[0mdata\u001b[0m\u001b[0;34m[\u001b[0m\u001b[0;34m'Label'\u001b[0m\u001b[0;34m]\u001b[0m\u001b[0;34m\u001b[0m\u001b[0;34m\u001b[0m\u001b[0m\n\u001b[0m\u001b[1;32m      4\u001b[0m X = data.drop(labels=['Label', 'Flow ID', 'Source IP', 'Source Port',\n\u001b[1;32m      5\u001b[0m               'Destination IP', 'Destination Port', 'Protocol', 'Timestamp'], axis=1)\n",
            "\u001b[0;32m/usr/local/lib/python3.11/dist-packages/pandas/core/frame.py\u001b[0m in \u001b[0;36m__getitem__\u001b[0;34m(self, key)\u001b[0m\n\u001b[1;32m   4100\u001b[0m             \u001b[0;32mif\u001b[0m \u001b[0mself\u001b[0m\u001b[0;34m.\u001b[0m\u001b[0mcolumns\u001b[0m\u001b[0;34m.\u001b[0m\u001b[0mnlevels\u001b[0m \u001b[0;34m>\u001b[0m \u001b[0;36m1\u001b[0m\u001b[0;34m:\u001b[0m\u001b[0;34m\u001b[0m\u001b[0;34m\u001b[0m\u001b[0m\n\u001b[1;32m   4101\u001b[0m                 \u001b[0;32mreturn\u001b[0m \u001b[0mself\u001b[0m\u001b[0;34m.\u001b[0m\u001b[0m_getitem_multilevel\u001b[0m\u001b[0;34m(\u001b[0m\u001b[0mkey\u001b[0m\u001b[0;34m)\u001b[0m\u001b[0;34m\u001b[0m\u001b[0;34m\u001b[0m\u001b[0m\n\u001b[0;32m-> 4102\u001b[0;31m             \u001b[0mindexer\u001b[0m \u001b[0;34m=\u001b[0m \u001b[0mself\u001b[0m\u001b[0;34m.\u001b[0m\u001b[0mcolumns\u001b[0m\u001b[0;34m.\u001b[0m\u001b[0mget_loc\u001b[0m\u001b[0;34m(\u001b[0m\u001b[0mkey\u001b[0m\u001b[0;34m)\u001b[0m\u001b[0;34m\u001b[0m\u001b[0;34m\u001b[0m\u001b[0m\n\u001b[0m\u001b[1;32m   4103\u001b[0m             \u001b[0;32mif\u001b[0m \u001b[0mis_integer\u001b[0m\u001b[0;34m(\u001b[0m\u001b[0mindexer\u001b[0m\u001b[0;34m)\u001b[0m\u001b[0;34m:\u001b[0m\u001b[0;34m\u001b[0m\u001b[0;34m\u001b[0m\u001b[0m\n\u001b[1;32m   4104\u001b[0m                 \u001b[0mindexer\u001b[0m \u001b[0;34m=\u001b[0m \u001b[0;34m[\u001b[0m\u001b[0mindexer\u001b[0m\u001b[0;34m]\u001b[0m\u001b[0;34m\u001b[0m\u001b[0;34m\u001b[0m\u001b[0m\n",
            "\u001b[0;32m/usr/local/lib/python3.11/dist-packages/pandas/core/indexes/base.py\u001b[0m in \u001b[0;36mget_loc\u001b[0;34m(self, key)\u001b[0m\n\u001b[1;32m   3810\u001b[0m             ):\n\u001b[1;32m   3811\u001b[0m                 \u001b[0;32mraise\u001b[0m \u001b[0mInvalidIndexError\u001b[0m\u001b[0;34m(\u001b[0m\u001b[0mkey\u001b[0m\u001b[0;34m)\u001b[0m\u001b[0;34m\u001b[0m\u001b[0;34m\u001b[0m\u001b[0m\n\u001b[0;32m-> 3812\u001b[0;31m             \u001b[0;32mraise\u001b[0m \u001b[0mKeyError\u001b[0m\u001b[0;34m(\u001b[0m\u001b[0mkey\u001b[0m\u001b[0;34m)\u001b[0m \u001b[0;32mfrom\u001b[0m \u001b[0merr\u001b[0m\u001b[0;34m\u001b[0m\u001b[0;34m\u001b[0m\u001b[0m\n\u001b[0m\u001b[1;32m   3813\u001b[0m         \u001b[0;32mexcept\u001b[0m \u001b[0mTypeError\u001b[0m\u001b[0;34m:\u001b[0m\u001b[0;34m\u001b[0m\u001b[0;34m\u001b[0m\u001b[0m\n\u001b[1;32m   3814\u001b[0m             \u001b[0;31m# If we have a listlike key, _check_indexing_error will raise\u001b[0m\u001b[0;34m\u001b[0m\u001b[0;34m\u001b[0m\u001b[0m\n",
            "\u001b[0;31mKeyError\u001b[0m: 'Label'"
          ]
        }
      ],
      "source": [
        "data = pd.read_csv('DDoS-SYN_Flood.pcap.csv', delimiter=',')\n",
        "\n",
        "y = data['Label']\n",
        "X = data.drop(labels=['Label', 'Flow ID', 'Source IP', 'Source Port',\n",
        "              'Destination IP', 'Destination Port', 'Protocol', 'Timestamp'], axis=1)"
      ]
    },
    {
      "source": [
        "data = pd.read_csv('DDoS-SYN_Flood.pcap.csv', delimiter=',')\n",
        "\n",
        "# Print the column names to identify the correct label column\n",
        "print(data.columns)\n",
        "\n",
        "# === User Action Required: Identify the correct label column from the output above ===\n",
        "# Replace '<Actual Label Column Name>' below with the name of the column\n",
        "# that contains the attack classification labels in your CSV file.\n",
        "# For example, if the output shows a column named 'Attack', change it to 'Attack'.\n",
        "# Based on the original code, it seems the label column should be 'Label'.\n",
        "correct_label_column_name = 'Label' # <-- REPLACE THIS PLACEHOLDER WITH THE ACTUAL COLUMN NAME\n",
        "\n",
        "try:\n",
        "\n",
        "\n",
        "    # Ensure 'correct_label_column_name' is included in the list of columns to drop\n",
        "    # along with the other columns that are not features.\n",
        "    columns_to_drop = [correct_label_column_name, 'Flow ID', 'Source IP', 'Source Port',\n",
        "                       'Destination IP', 'Destination Port', 'Protocol', 'Timestamp']\n",
        "\n",
        "    # Filter out any columns that might not exist in this specific CSV to avoid errors\n",
        "    columns_to_drop_existing = [col for col in columns_to_drop if col in data.columns]\n",
        "\n",
        "    X = data.drop(labels=columns_to_drop_existing, axis=1)\n",
        "\n",
        "except KeyError as e:\n",
        "    print(f\"Caught KeyError: {e}. The column '{e}' was not found in the DataFrame.\")\n",
        "    print(\"Please ensure you have replaced '<Actual Label Column Name>' with the correct column name from the print output above.\")\n",
        "    # Re-raise the error to signal that the user still needs to provide the correct column name.\n",
        "    raise e"
      ],
      "cell_type": "code",
      "metadata": {
        "id": "jzdf3SJ3Hp21",
        "outputId": "9fa48548-2a2b-4519-943f-fc7f1e79b436",
        "colab": {
          "base_uri": "https://localhost:8080/"
        }
      },
      "id": "jzdf3SJ3Hp21",
      "execution_count": 41,
      "outputs": [
        {
          "output_type": "stream",
          "name": "stdout",
          "text": [
            "Index(['Header_Length', 'Protocol Type', 'Time_To_Live', 'Rate',\n",
            "       'fin_flag_number', 'syn_flag_number', 'rst_flag_number',\n",
            "       'psh_flag_number', 'ack_flag_number', 'ece_flag_number',\n",
            "       'cwr_flag_number', 'ack_count', 'syn_count', 'fin_count', 'rst_count',\n",
            "       'HTTP', 'HTTPS', 'DNS', 'Telnet', 'SMTP', 'SSH', 'IRC', 'TCP', 'UDP',\n",
            "       'DHCP', 'ARP', 'ICMP', 'IGMP', 'IPv', 'LLC', 'Tot sum', 'Min', 'Max',\n",
            "       'AVG', 'Std', 'Tot size', 'IAT', 'Number', 'Variance'],\n",
            "      dtype='object')\n"
          ]
        }
      ]
    },
    {
      "cell_type": "markdown",
      "id": "2855d909",
      "metadata": {
        "id": "2855d909"
      },
      "source": [
        "### Preparing feature vectors for training"
      ]
    },
    {
      "cell_type": "markdown",
      "id": "7b7e8941",
      "metadata": {
        "id": "7b7e8941"
      },
      "source": [
        "First, we need to inspect feature vectors."
      ]
    },
    {
      "cell_type": "code",
      "execution_count": 42,
      "id": "c7483bc8",
      "metadata": {
        "id": "c7483bc8",
        "outputId": "9dca7fd9-db2a-4cf1-ed06-19764ed32538",
        "colab": {
          "base_uri": "https://localhost:8080/",
          "height": 461
        }
      },
      "outputs": [
        {
          "output_type": "execute_result",
          "data": {
            "text/plain": [
              "        Header_Length  Protocol Type  Time_To_Live          Rate  \\\n",
              "0               19.60              6         63.36   2517.060642   \n",
              "1               20.00              6         64.00  16163.021195   \n",
              "2               20.36              6         63.57   6324.247222   \n",
              "3               19.80              6         63.36   7081.145327   \n",
              "4               20.00              6         64.00  15770.431644   \n",
              "...               ...            ...           ...           ...   \n",
              "266019          20.00              6         64.00  22764.200814   \n",
              "266020          20.00              6         64.00  49583.922449   \n",
              "266021          19.68              6         63.26   6791.075419   \n",
              "266022          20.00              6         64.00  10911.300728   \n",
              "266023          20.00              6         64.00  48834.069858   \n",
              "\n",
              "        fin_flag_number  syn_flag_number  rst_flag_number  psh_flag_number  \\\n",
              "0                  0.00             0.98              0.0             0.00   \n",
              "1                  0.00             1.00              0.0             0.00   \n",
              "2                  0.01             0.97              0.0             0.01   \n",
              "3                  0.00             0.99              0.0             0.00   \n",
              "4                  0.00             1.00              0.0             0.00   \n",
              "...                 ...              ...              ...              ...   \n",
              "266019             0.00             1.00              0.0             0.00   \n",
              "266020             0.00             1.00              0.0             0.00   \n",
              "266021             0.00             0.98              0.0             0.00   \n",
              "266022             0.00             1.00              0.0             0.00   \n",
              "266023             0.00             1.00              0.0             0.00   \n",
              "\n",
              "        ack_flag_number  ece_flag_number  ...   LLC  Tot sum  Min  Max    AVG  \\\n",
              "0                  0.00              0.0  ...  0.99     6038   60   98  60.38   \n",
              "1                  0.00              0.0  ...  1.00     6000   60   60  60.00   \n",
              "2                  0.03              0.0  ...  1.00     6025   60   73  60.25   \n",
              "3                  0.00              0.0  ...  0.99     6000   60   60  60.00   \n",
              "4                  0.00              0.0  ...  1.00     6000   60   60  60.00   \n",
              "...                 ...              ...  ...   ...      ...  ...  ...    ...   \n",
              "266019             0.00              0.0  ...  1.00     6000   60   60  60.00   \n",
              "266020             0.00              0.0  ...  1.00     6000   60   60  60.00   \n",
              "266021             0.00              0.0  ...  0.99     6061   60  121  60.61   \n",
              "266022             0.00              0.0  ...  1.00     6000   60   60  60.00   \n",
              "266023             0.00              0.0  ...  1.00     3780   60   60  60.00   \n",
              "\n",
              "             Std  Tot size       IAT  Number   Variance  \n",
              "0       3.800000     60.38  0.000397     100  14.440000  \n",
              "1       0.000000     60.00  0.000062     100   0.000000  \n",
              "2       1.539874     60.25  0.000158     100   2.371212  \n",
              "3       0.000000     60.00  0.000141     100   0.000000  \n",
              "4       0.000000     60.00  0.000063     100   0.000000  \n",
              "...          ...       ...       ...     ...        ...  \n",
              "266019  0.000000     60.00  0.000044     100   0.000000  \n",
              "266020  0.000000     60.00  0.000021     100   0.000000  \n",
              "266021  6.100000     60.61  0.000147     100  37.210000  \n",
              "266022  0.000000     60.00  0.000092     100   0.000000  \n",
              "266023  0.000000     60.00  0.000020      63   0.000000  \n",
              "\n",
              "[266024 rows x 39 columns]"
            ],
            "text/html": [
              "\n",
              "  <div id=\"df-a65e2ba3-1142-4aa7-a121-0e39b5c2f994\" class=\"colab-df-container\">\n",
              "    <div>\n",
              "<style scoped>\n",
              "    .dataframe tbody tr th:only-of-type {\n",
              "        vertical-align: middle;\n",
              "    }\n",
              "\n",
              "    .dataframe tbody tr th {\n",
              "        vertical-align: top;\n",
              "    }\n",
              "\n",
              "    .dataframe thead th {\n",
              "        text-align: right;\n",
              "    }\n",
              "</style>\n",
              "<table border=\"1\" class=\"dataframe\">\n",
              "  <thead>\n",
              "    <tr style=\"text-align: right;\">\n",
              "      <th></th>\n",
              "      <th>Header_Length</th>\n",
              "      <th>Protocol Type</th>\n",
              "      <th>Time_To_Live</th>\n",
              "      <th>Rate</th>\n",
              "      <th>fin_flag_number</th>\n",
              "      <th>syn_flag_number</th>\n",
              "      <th>rst_flag_number</th>\n",
              "      <th>psh_flag_number</th>\n",
              "      <th>ack_flag_number</th>\n",
              "      <th>ece_flag_number</th>\n",
              "      <th>...</th>\n",
              "      <th>LLC</th>\n",
              "      <th>Tot sum</th>\n",
              "      <th>Min</th>\n",
              "      <th>Max</th>\n",
              "      <th>AVG</th>\n",
              "      <th>Std</th>\n",
              "      <th>Tot size</th>\n",
              "      <th>IAT</th>\n",
              "      <th>Number</th>\n",
              "      <th>Variance</th>\n",
              "    </tr>\n",
              "  </thead>\n",
              "  <tbody>\n",
              "    <tr>\n",
              "      <th>0</th>\n",
              "      <td>19.60</td>\n",
              "      <td>6</td>\n",
              "      <td>63.36</td>\n",
              "      <td>2517.060642</td>\n",
              "      <td>0.00</td>\n",
              "      <td>0.98</td>\n",
              "      <td>0.0</td>\n",
              "      <td>0.00</td>\n",
              "      <td>0.00</td>\n",
              "      <td>0.0</td>\n",
              "      <td>...</td>\n",
              "      <td>0.99</td>\n",
              "      <td>6038</td>\n",
              "      <td>60</td>\n",
              "      <td>98</td>\n",
              "      <td>60.38</td>\n",
              "      <td>3.800000</td>\n",
              "      <td>60.38</td>\n",
              "      <td>0.000397</td>\n",
              "      <td>100</td>\n",
              "      <td>14.440000</td>\n",
              "    </tr>\n",
              "    <tr>\n",
              "      <th>1</th>\n",
              "      <td>20.00</td>\n",
              "      <td>6</td>\n",
              "      <td>64.00</td>\n",
              "      <td>16163.021195</td>\n",
              "      <td>0.00</td>\n",
              "      <td>1.00</td>\n",
              "      <td>0.0</td>\n",
              "      <td>0.00</td>\n",
              "      <td>0.00</td>\n",
              "      <td>0.0</td>\n",
              "      <td>...</td>\n",
              "      <td>1.00</td>\n",
              "      <td>6000</td>\n",
              "      <td>60</td>\n",
              "      <td>60</td>\n",
              "      <td>60.00</td>\n",
              "      <td>0.000000</td>\n",
              "      <td>60.00</td>\n",
              "      <td>0.000062</td>\n",
              "      <td>100</td>\n",
              "      <td>0.000000</td>\n",
              "    </tr>\n",
              "    <tr>\n",
              "      <th>2</th>\n",
              "      <td>20.36</td>\n",
              "      <td>6</td>\n",
              "      <td>63.57</td>\n",
              "      <td>6324.247222</td>\n",
              "      <td>0.01</td>\n",
              "      <td>0.97</td>\n",
              "      <td>0.0</td>\n",
              "      <td>0.01</td>\n",
              "      <td>0.03</td>\n",
              "      <td>0.0</td>\n",
              "      <td>...</td>\n",
              "      <td>1.00</td>\n",
              "      <td>6025</td>\n",
              "      <td>60</td>\n",
              "      <td>73</td>\n",
              "      <td>60.25</td>\n",
              "      <td>1.539874</td>\n",
              "      <td>60.25</td>\n",
              "      <td>0.000158</td>\n",
              "      <td>100</td>\n",
              "      <td>2.371212</td>\n",
              "    </tr>\n",
              "    <tr>\n",
              "      <th>3</th>\n",
              "      <td>19.80</td>\n",
              "      <td>6</td>\n",
              "      <td>63.36</td>\n",
              "      <td>7081.145327</td>\n",
              "      <td>0.00</td>\n",
              "      <td>0.99</td>\n",
              "      <td>0.0</td>\n",
              "      <td>0.00</td>\n",
              "      <td>0.00</td>\n",
              "      <td>0.0</td>\n",
              "      <td>...</td>\n",
              "      <td>0.99</td>\n",
              "      <td>6000</td>\n",
              "      <td>60</td>\n",
              "      <td>60</td>\n",
              "      <td>60.00</td>\n",
              "      <td>0.000000</td>\n",
              "      <td>60.00</td>\n",
              "      <td>0.000141</td>\n",
              "      <td>100</td>\n",
              "      <td>0.000000</td>\n",
              "    </tr>\n",
              "    <tr>\n",
              "      <th>4</th>\n",
              "      <td>20.00</td>\n",
              "      <td>6</td>\n",
              "      <td>64.00</td>\n",
              "      <td>15770.431644</td>\n",
              "      <td>0.00</td>\n",
              "      <td>1.00</td>\n",
              "      <td>0.0</td>\n",
              "      <td>0.00</td>\n",
              "      <td>0.00</td>\n",
              "      <td>0.0</td>\n",
              "      <td>...</td>\n",
              "      <td>1.00</td>\n",
              "      <td>6000</td>\n",
              "      <td>60</td>\n",
              "      <td>60</td>\n",
              "      <td>60.00</td>\n",
              "      <td>0.000000</td>\n",
              "      <td>60.00</td>\n",
              "      <td>0.000063</td>\n",
              "      <td>100</td>\n",
              "      <td>0.000000</td>\n",
              "    </tr>\n",
              "    <tr>\n",
              "      <th>...</th>\n",
              "      <td>...</td>\n",
              "      <td>...</td>\n",
              "      <td>...</td>\n",
              "      <td>...</td>\n",
              "      <td>...</td>\n",
              "      <td>...</td>\n",
              "      <td>...</td>\n",
              "      <td>...</td>\n",
              "      <td>...</td>\n",
              "      <td>...</td>\n",
              "      <td>...</td>\n",
              "      <td>...</td>\n",
              "      <td>...</td>\n",
              "      <td>...</td>\n",
              "      <td>...</td>\n",
              "      <td>...</td>\n",
              "      <td>...</td>\n",
              "      <td>...</td>\n",
              "      <td>...</td>\n",
              "      <td>...</td>\n",
              "      <td>...</td>\n",
              "    </tr>\n",
              "    <tr>\n",
              "      <th>266019</th>\n",
              "      <td>20.00</td>\n",
              "      <td>6</td>\n",
              "      <td>64.00</td>\n",
              "      <td>22764.200814</td>\n",
              "      <td>0.00</td>\n",
              "      <td>1.00</td>\n",
              "      <td>0.0</td>\n",
              "      <td>0.00</td>\n",
              "      <td>0.00</td>\n",
              "      <td>0.0</td>\n",
              "      <td>...</td>\n",
              "      <td>1.00</td>\n",
              "      <td>6000</td>\n",
              "      <td>60</td>\n",
              "      <td>60</td>\n",
              "      <td>60.00</td>\n",
              "      <td>0.000000</td>\n",
              "      <td>60.00</td>\n",
              "      <td>0.000044</td>\n",
              "      <td>100</td>\n",
              "      <td>0.000000</td>\n",
              "    </tr>\n",
              "    <tr>\n",
              "      <th>266020</th>\n",
              "      <td>20.00</td>\n",
              "      <td>6</td>\n",
              "      <td>64.00</td>\n",
              "      <td>49583.922449</td>\n",
              "      <td>0.00</td>\n",
              "      <td>1.00</td>\n",
              "      <td>0.0</td>\n",
              "      <td>0.00</td>\n",
              "      <td>0.00</td>\n",
              "      <td>0.0</td>\n",
              "      <td>...</td>\n",
              "      <td>1.00</td>\n",
              "      <td>6000</td>\n",
              "      <td>60</td>\n",
              "      <td>60</td>\n",
              "      <td>60.00</td>\n",
              "      <td>0.000000</td>\n",
              "      <td>60.00</td>\n",
              "      <td>0.000021</td>\n",
              "      <td>100</td>\n",
              "      <td>0.000000</td>\n",
              "    </tr>\n",
              "    <tr>\n",
              "      <th>266021</th>\n",
              "      <td>19.68</td>\n",
              "      <td>6</td>\n",
              "      <td>63.26</td>\n",
              "      <td>6791.075419</td>\n",
              "      <td>0.00</td>\n",
              "      <td>0.98</td>\n",
              "      <td>0.0</td>\n",
              "      <td>0.00</td>\n",
              "      <td>0.00</td>\n",
              "      <td>0.0</td>\n",
              "      <td>...</td>\n",
              "      <td>0.99</td>\n",
              "      <td>6061</td>\n",
              "      <td>60</td>\n",
              "      <td>121</td>\n",
              "      <td>60.61</td>\n",
              "      <td>6.100000</td>\n",
              "      <td>60.61</td>\n",
              "      <td>0.000147</td>\n",
              "      <td>100</td>\n",
              "      <td>37.210000</td>\n",
              "    </tr>\n",
              "    <tr>\n",
              "      <th>266022</th>\n",
              "      <td>20.00</td>\n",
              "      <td>6</td>\n",
              "      <td>64.00</td>\n",
              "      <td>10911.300728</td>\n",
              "      <td>0.00</td>\n",
              "      <td>1.00</td>\n",
              "      <td>0.0</td>\n",
              "      <td>0.00</td>\n",
              "      <td>0.00</td>\n",
              "      <td>0.0</td>\n",
              "      <td>...</td>\n",
              "      <td>1.00</td>\n",
              "      <td>6000</td>\n",
              "      <td>60</td>\n",
              "      <td>60</td>\n",
              "      <td>60.00</td>\n",
              "      <td>0.000000</td>\n",
              "      <td>60.00</td>\n",
              "      <td>0.000092</td>\n",
              "      <td>100</td>\n",
              "      <td>0.000000</td>\n",
              "    </tr>\n",
              "    <tr>\n",
              "      <th>266023</th>\n",
              "      <td>20.00</td>\n",
              "      <td>6</td>\n",
              "      <td>64.00</td>\n",
              "      <td>48834.069858</td>\n",
              "      <td>0.00</td>\n",
              "      <td>1.00</td>\n",
              "      <td>0.0</td>\n",
              "      <td>0.00</td>\n",
              "      <td>0.00</td>\n",
              "      <td>0.0</td>\n",
              "      <td>...</td>\n",
              "      <td>1.00</td>\n",
              "      <td>3780</td>\n",
              "      <td>60</td>\n",
              "      <td>60</td>\n",
              "      <td>60.00</td>\n",
              "      <td>0.000000</td>\n",
              "      <td>60.00</td>\n",
              "      <td>0.000020</td>\n",
              "      <td>63</td>\n",
              "      <td>0.000000</td>\n",
              "    </tr>\n",
              "  </tbody>\n",
              "</table>\n",
              "<p>266024 rows × 39 columns</p>\n",
              "</div>\n",
              "    <div class=\"colab-df-buttons\">\n",
              "\n",
              "  <div class=\"colab-df-container\">\n",
              "    <button class=\"colab-df-convert\" onclick=\"convertToInteractive('df-a65e2ba3-1142-4aa7-a121-0e39b5c2f994')\"\n",
              "            title=\"Convert this dataframe to an interactive table.\"\n",
              "            style=\"display:none;\">\n",
              "\n",
              "  <svg xmlns=\"http://www.w3.org/2000/svg\" height=\"24px\" viewBox=\"0 -960 960 960\">\n",
              "    <path d=\"M120-120v-720h720v720H120Zm60-500h600v-160H180v160Zm220 220h160v-160H400v160Zm0 220h160v-160H400v160ZM180-400h160v-160H180v160Zm440 0h160v-160H620v160ZM180-180h160v-160H180v160Zm440 0h160v-160H620v160Z\"/>\n",
              "  </svg>\n",
              "    </button>\n",
              "\n",
              "  <style>\n",
              "    .colab-df-container {\n",
              "      display:flex;\n",
              "      gap: 12px;\n",
              "    }\n",
              "\n",
              "    .colab-df-convert {\n",
              "      background-color: #E8F0FE;\n",
              "      border: none;\n",
              "      border-radius: 50%;\n",
              "      cursor: pointer;\n",
              "      display: none;\n",
              "      fill: #1967D2;\n",
              "      height: 32px;\n",
              "      padding: 0 0 0 0;\n",
              "      width: 32px;\n",
              "    }\n",
              "\n",
              "    .colab-df-convert:hover {\n",
              "      background-color: #E2EBFA;\n",
              "      box-shadow: 0px 1px 2px rgba(60, 64, 67, 0.3), 0px 1px 3px 1px rgba(60, 64, 67, 0.15);\n",
              "      fill: #174EA6;\n",
              "    }\n",
              "\n",
              "    .colab-df-buttons div {\n",
              "      margin-bottom: 4px;\n",
              "    }\n",
              "\n",
              "    [theme=dark] .colab-df-convert {\n",
              "      background-color: #3B4455;\n",
              "      fill: #D2E3FC;\n",
              "    }\n",
              "\n",
              "    [theme=dark] .colab-df-convert:hover {\n",
              "      background-color: #434B5C;\n",
              "      box-shadow: 0px 1px 3px 1px rgba(0, 0, 0, 0.15);\n",
              "      filter: drop-shadow(0px 1px 2px rgba(0, 0, 0, 0.3));\n",
              "      fill: #FFFFFF;\n",
              "    }\n",
              "  </style>\n",
              "\n",
              "    <script>\n",
              "      const buttonEl =\n",
              "        document.querySelector('#df-a65e2ba3-1142-4aa7-a121-0e39b5c2f994 button.colab-df-convert');\n",
              "      buttonEl.style.display =\n",
              "        google.colab.kernel.accessAllowed ? 'block' : 'none';\n",
              "\n",
              "      async function convertToInteractive(key) {\n",
              "        const element = document.querySelector('#df-a65e2ba3-1142-4aa7-a121-0e39b5c2f994');\n",
              "        const dataTable =\n",
              "          await google.colab.kernel.invokeFunction('convertToInteractive',\n",
              "                                                    [key], {});\n",
              "        if (!dataTable) return;\n",
              "\n",
              "        const docLinkHtml = 'Like what you see? Visit the ' +\n",
              "          '<a target=\"_blank\" href=https://colab.research.google.com/notebooks/data_table.ipynb>data table notebook</a>'\n",
              "          + ' to learn more about interactive tables.';\n",
              "        element.innerHTML = '';\n",
              "        dataTable['output_type'] = 'display_data';\n",
              "        await google.colab.output.renderOutput(dataTable, element);\n",
              "        const docLink = document.createElement('div');\n",
              "        docLink.innerHTML = docLinkHtml;\n",
              "        element.appendChild(docLink);\n",
              "      }\n",
              "    </script>\n",
              "  </div>\n",
              "\n",
              "\n",
              "    <div id=\"df-5fb5fe85-5efc-43d5-a46d-bb0e4e207c72\">\n",
              "      <button class=\"colab-df-quickchart\" onclick=\"quickchart('df-5fb5fe85-5efc-43d5-a46d-bb0e4e207c72')\"\n",
              "                title=\"Suggest charts\"\n",
              "                style=\"display:none;\">\n",
              "\n",
              "<svg xmlns=\"http://www.w3.org/2000/svg\" height=\"24px\"viewBox=\"0 0 24 24\"\n",
              "     width=\"24px\">\n",
              "    <g>\n",
              "        <path d=\"M19 3H5c-1.1 0-2 .9-2 2v14c0 1.1.9 2 2 2h14c1.1 0 2-.9 2-2V5c0-1.1-.9-2-2-2zM9 17H7v-7h2v7zm4 0h-2V7h2v10zm4 0h-2v-4h2v4z\"/>\n",
              "    </g>\n",
              "</svg>\n",
              "      </button>\n",
              "\n",
              "<style>\n",
              "  .colab-df-quickchart {\n",
              "      --bg-color: #E8F0FE;\n",
              "      --fill-color: #1967D2;\n",
              "      --hover-bg-color: #E2EBFA;\n",
              "      --hover-fill-color: #174EA6;\n",
              "      --disabled-fill-color: #AAA;\n",
              "      --disabled-bg-color: #DDD;\n",
              "  }\n",
              "\n",
              "  [theme=dark] .colab-df-quickchart {\n",
              "      --bg-color: #3B4455;\n",
              "      --fill-color: #D2E3FC;\n",
              "      --hover-bg-color: #434B5C;\n",
              "      --hover-fill-color: #FFFFFF;\n",
              "      --disabled-bg-color: #3B4455;\n",
              "      --disabled-fill-color: #666;\n",
              "  }\n",
              "\n",
              "  .colab-df-quickchart {\n",
              "    background-color: var(--bg-color);\n",
              "    border: none;\n",
              "    border-radius: 50%;\n",
              "    cursor: pointer;\n",
              "    display: none;\n",
              "    fill: var(--fill-color);\n",
              "    height: 32px;\n",
              "    padding: 0;\n",
              "    width: 32px;\n",
              "  }\n",
              "\n",
              "  .colab-df-quickchart:hover {\n",
              "    background-color: var(--hover-bg-color);\n",
              "    box-shadow: 0 1px 2px rgba(60, 64, 67, 0.3), 0 1px 3px 1px rgba(60, 64, 67, 0.15);\n",
              "    fill: var(--button-hover-fill-color);\n",
              "  }\n",
              "\n",
              "  .colab-df-quickchart-complete:disabled,\n",
              "  .colab-df-quickchart-complete:disabled:hover {\n",
              "    background-color: var(--disabled-bg-color);\n",
              "    fill: var(--disabled-fill-color);\n",
              "    box-shadow: none;\n",
              "  }\n",
              "\n",
              "  .colab-df-spinner {\n",
              "    border: 2px solid var(--fill-color);\n",
              "    border-color: transparent;\n",
              "    border-bottom-color: var(--fill-color);\n",
              "    animation:\n",
              "      spin 1s steps(1) infinite;\n",
              "  }\n",
              "\n",
              "  @keyframes spin {\n",
              "    0% {\n",
              "      border-color: transparent;\n",
              "      border-bottom-color: var(--fill-color);\n",
              "      border-left-color: var(--fill-color);\n",
              "    }\n",
              "    20% {\n",
              "      border-color: transparent;\n",
              "      border-left-color: var(--fill-color);\n",
              "      border-top-color: var(--fill-color);\n",
              "    }\n",
              "    30% {\n",
              "      border-color: transparent;\n",
              "      border-left-color: var(--fill-color);\n",
              "      border-top-color: var(--fill-color);\n",
              "      border-right-color: var(--fill-color);\n",
              "    }\n",
              "    40% {\n",
              "      border-color: transparent;\n",
              "      border-right-color: var(--fill-color);\n",
              "      border-top-color: var(--fill-color);\n",
              "    }\n",
              "    60% {\n",
              "      border-color: transparent;\n",
              "      border-right-color: var(--fill-color);\n",
              "    }\n",
              "    80% {\n",
              "      border-color: transparent;\n",
              "      border-right-color: var(--fill-color);\n",
              "      border-bottom-color: var(--fill-color);\n",
              "    }\n",
              "    90% {\n",
              "      border-color: transparent;\n",
              "      border-bottom-color: var(--fill-color);\n",
              "    }\n",
              "  }\n",
              "</style>\n",
              "\n",
              "      <script>\n",
              "        async function quickchart(key) {\n",
              "          const quickchartButtonEl =\n",
              "            document.querySelector('#' + key + ' button');\n",
              "          quickchartButtonEl.disabled = true;  // To prevent multiple clicks.\n",
              "          quickchartButtonEl.classList.add('colab-df-spinner');\n",
              "          try {\n",
              "            const charts = await google.colab.kernel.invokeFunction(\n",
              "                'suggestCharts', [key], {});\n",
              "          } catch (error) {\n",
              "            console.error('Error during call to suggestCharts:', error);\n",
              "          }\n",
              "          quickchartButtonEl.classList.remove('colab-df-spinner');\n",
              "          quickchartButtonEl.classList.add('colab-df-quickchart-complete');\n",
              "        }\n",
              "        (() => {\n",
              "          let quickchartButtonEl =\n",
              "            document.querySelector('#df-5fb5fe85-5efc-43d5-a46d-bb0e4e207c72 button');\n",
              "          quickchartButtonEl.style.display =\n",
              "            google.colab.kernel.accessAllowed ? 'block' : 'none';\n",
              "        })();\n",
              "      </script>\n",
              "    </div>\n",
              "\n",
              "  <div id=\"id_0a462890-0df4-47e7-9f99-5dd6a483872e\">\n",
              "    <style>\n",
              "      .colab-df-generate {\n",
              "        background-color: #E8F0FE;\n",
              "        border: none;\n",
              "        border-radius: 50%;\n",
              "        cursor: pointer;\n",
              "        display: none;\n",
              "        fill: #1967D2;\n",
              "        height: 32px;\n",
              "        padding: 0 0 0 0;\n",
              "        width: 32px;\n",
              "      }\n",
              "\n",
              "      .colab-df-generate:hover {\n",
              "        background-color: #E2EBFA;\n",
              "        box-shadow: 0px 1px 2px rgba(60, 64, 67, 0.3), 0px 1px 3px 1px rgba(60, 64, 67, 0.15);\n",
              "        fill: #174EA6;\n",
              "      }\n",
              "\n",
              "      [theme=dark] .colab-df-generate {\n",
              "        background-color: #3B4455;\n",
              "        fill: #D2E3FC;\n",
              "      }\n",
              "\n",
              "      [theme=dark] .colab-df-generate:hover {\n",
              "        background-color: #434B5C;\n",
              "        box-shadow: 0px 1px 3px 1px rgba(0, 0, 0, 0.15);\n",
              "        filter: drop-shadow(0px 1px 2px rgba(0, 0, 0, 0.3));\n",
              "        fill: #FFFFFF;\n",
              "      }\n",
              "    </style>\n",
              "    <button class=\"colab-df-generate\" onclick=\"generateWithVariable('X')\"\n",
              "            title=\"Generate code using this dataframe.\"\n",
              "            style=\"display:none;\">\n",
              "\n",
              "  <svg xmlns=\"http://www.w3.org/2000/svg\" height=\"24px\"viewBox=\"0 0 24 24\"\n",
              "       width=\"24px\">\n",
              "    <path d=\"M7,19H8.4L18.45,9,17,7.55,7,17.6ZM5,21V16.75L18.45,3.32a2,2,0,0,1,2.83,0l1.4,1.43a1.91,1.91,0,0,1,.58,1.4,1.91,1.91,0,0,1-.58,1.4L9.25,21ZM18.45,9,17,7.55Zm-12,3A5.31,5.31,0,0,0,4.9,8.1,5.31,5.31,0,0,0,1,6.5,5.31,5.31,0,0,0,4.9,4.9,5.31,5.31,0,0,0,6.5,1,5.31,5.31,0,0,0,8.1,4.9,5.31,5.31,0,0,0,12,6.5,5.46,5.46,0,0,0,6.5,12Z\"/>\n",
              "  </svg>\n",
              "    </button>\n",
              "    <script>\n",
              "      (() => {\n",
              "      const buttonEl =\n",
              "        document.querySelector('#id_0a462890-0df4-47e7-9f99-5dd6a483872e button.colab-df-generate');\n",
              "      buttonEl.style.display =\n",
              "        google.colab.kernel.accessAllowed ? 'block' : 'none';\n",
              "\n",
              "      buttonEl.onclick = () => {\n",
              "        google.colab.notebook.generateWithVariable('X');\n",
              "      }\n",
              "      })();\n",
              "    </script>\n",
              "  </div>\n",
              "\n",
              "    </div>\n",
              "  </div>\n"
            ],
            "application/vnd.google.colaboratory.intrinsic+json": {
              "type": "dataframe",
              "variable_name": "X"
            }
          },
          "metadata": {},
          "execution_count": 42
        }
      ],
      "source": [
        "X"
      ]
    },
    {
      "cell_type": "markdown",
      "id": "09ac809a",
      "metadata": {
        "id": "09ac809a"
      },
      "source": [
        "Check the absence of missing values in feature vectors."
      ]
    },
    {
      "cell_type": "code",
      "execution_count": 43,
      "id": "5c4b0c21",
      "metadata": {
        "id": "5c4b0c21",
        "outputId": "afa9cf82-0151-4ac5-faa3-756d66dbd885",
        "colab": {
          "base_uri": "https://localhost:8080/"
        }
      },
      "outputs": [
        {
          "output_type": "execute_result",
          "data": {
            "text/plain": [
              "np.True_"
            ]
          },
          "metadata": {},
          "execution_count": 43
        }
      ],
      "source": [
        "X.isnull().values.any()"
      ]
    },
    {
      "cell_type": "markdown",
      "id": "72d157f6",
      "metadata": {
        "id": "72d157f6"
      },
      "source": [
        "As we can see, the range of features is not normalized. We need to perform feature scaling for the correct functioning of selected deep learning algorithms (CNN and BiLSTM).\n",
        "\n",
        "In our case, the min-max normalization is used: all selected features are transformed into the range [0, 1]."
      ]
    },
    {
      "cell_type": "code",
      "execution_count": 44,
      "id": "14f1ab5d",
      "metadata": {
        "id": "14f1ab5d"
      },
      "outputs": [],
      "source": [
        "scaler = sklearn.preprocessing.MinMaxScaler()"
      ]
    },
    {
      "cell_type": "markdown",
      "id": "4aea3fc7",
      "metadata": {
        "id": "4aea3fc7"
      },
      "source": [
        "To prevent data leakage, feature scaling would be performed on cross-validation folds at the training step."
      ]
    },
    {
      "cell_type": "markdown",
      "id": "037f33bb",
      "metadata": {
        "id": "037f33bb"
      },
      "source": [
        "### Preparing labels for training"
      ]
    },
    {
      "cell_type": "markdown",
      "id": "3898547e",
      "metadata": {
        "id": "3898547e"
      },
      "source": [
        "First, we need to inspect labels."
      ]
    },
    {
      "cell_type": "code",
      "execution_count": 45,
      "id": "8fe9b30f",
      "metadata": {
        "id": "8fe9b30f",
        "outputId": "32aa2a7a-b812-477c-9f17-14b3fbf02e8d",
        "colab": {
          "base_uri": "https://localhost:8080/"
        }
      },
      "outputs": [
        {
          "output_type": "execute_result",
          "data": {
            "text/plain": [
              "array([14.44      ,  0.        ,  2.37121212, ..., 37.21      ,\n",
              "        0.        ,  0.        ])"
            ]
          },
          "metadata": {},
          "execution_count": 45
        }
      ],
      "source": [
        "y"
      ]
    },
    {
      "cell_type": "markdown",
      "id": "b01323a8",
      "metadata": {
        "id": "b01323a8"
      },
      "source": [
        "Check the absence of missing values in labels."
      ]
    },
    {
      "cell_type": "code",
      "execution_count": 46,
      "id": "dc64a24c",
      "metadata": {
        "id": "dc64a24c",
        "outputId": "f02039fe-9281-48e3-c1f2-994a458524c7",
        "colab": {
          "base_uri": "https://localhost:8080/",
          "height": 141
        }
      },
      "outputs": [
        {
          "output_type": "error",
          "ename": "AttributeError",
          "evalue": "'numpy.ndarray' object has no attribute 'isnull'",
          "traceback": [
            "\u001b[0;31m---------------------------------------------------------------------------\u001b[0m",
            "\u001b[0;31mAttributeError\u001b[0m                            Traceback (most recent call last)",
            "\u001b[0;32m<ipython-input-46-fb99bbff74a0>\u001b[0m in \u001b[0;36m<cell line: 0>\u001b[0;34m()\u001b[0m\n\u001b[0;32m----> 1\u001b[0;31m \u001b[0my\u001b[0m\u001b[0;34m.\u001b[0m\u001b[0misnull\u001b[0m\u001b[0;34m(\u001b[0m\u001b[0;34m)\u001b[0m\u001b[0;34m.\u001b[0m\u001b[0mvalues\u001b[0m\u001b[0;34m.\u001b[0m\u001b[0many\u001b[0m\u001b[0;34m(\u001b[0m\u001b[0;34m)\u001b[0m\u001b[0;34m\u001b[0m\u001b[0;34m\u001b[0m\u001b[0m\n\u001b[0m",
            "\u001b[0;31mAttributeError\u001b[0m: 'numpy.ndarray' object has no attribute 'isnull'"
          ]
        }
      ],
      "source": [
        "y.isnull().values.any()"
      ]
    },
    {
      "cell_type": "markdown",
      "id": "70943ed5",
      "metadata": {
        "id": "70943ed5"
      },
      "source": [
        "As we can see, labels are categorical. We would need to transform them into the numeric form before the neural network training. In order to achieve that, we would apply one-hot encoding to labels.\n",
        "\n",
        "To prevent data leakage, one-hot encoding would be performed within cross-validation folds at the training step."
      ]
    },
    {
      "cell_type": "markdown",
      "id": "a8bbdbac",
      "metadata": {
        "id": "a8bbdbac"
      },
      "source": [
        "## The neural network preparation"
      ]
    },
    {
      "cell_type": "markdown",
      "id": "19f9a457",
      "metadata": {
        "id": "19f9a457"
      },
      "source": [
        "Define and compile the neural network.\n",
        "<p> We use a sequential model with CNN and BiLSTM layers, and batch normalization is applied before BiLSTM layers. A dropout layer is put before the final layer to prevent overfitting.\n",
        "<p> Categorical cross-entropy is chosen as a loss function because of the multiclass classification. To get the classification result, the softmax activation function is applied to the output of the last, fully connected layer."
      ]
    },
    {
      "cell_type": "code",
      "execution_count": 47,
      "id": "1b9b10ea",
      "metadata": {
        "id": "1b9b10ea",
        "outputId": "a3b76f2d-3ead-4c89-f7ec-3d7ee80dd3cf",
        "colab": {
          "base_uri": "https://localhost:8080/"
        }
      },
      "outputs": [
        {
          "output_type": "stream",
          "name": "stderr",
          "text": [
            "/usr/local/lib/python3.11/dist-packages/keras/src/layers/convolutional/base_conv.py:107: UserWarning: Do not pass an `input_shape`/`input_dim` argument to a layer. When using Sequential models, prefer using an `Input(shape)` object as the first layer in the model instead.\n",
            "  super().__init__(activity_regularizer=activity_regularizer, **kwargs)\n",
            "/usr/local/lib/python3.11/dist-packages/keras/src/layers/reshaping/reshape.py:39: UserWarning: Do not pass an `input_shape`/`input_dim` argument to a layer. When using Sequential models, prefer using an `Input(shape)` object as the first layer in the model instead.\n",
            "  super().__init__(**kwargs)\n"
          ]
        }
      ],
      "source": [
        "batch_size = 32\n",
        "model = Sequential()\n",
        "model.add(Convolution1D(64, kernel_size=32, padding=\"same\",\n",
        "          activation=\"relu\", input_shape=(76, 1)))\n",
        "model.add(MaxPooling1D(pool_size=(5)))\n",
        "model.add(BatchNormalization())\n",
        "model.add(Bidirectional(LSTM(64, return_sequences=False)))\n",
        "model.add(Reshape((128, 1), input_shape=(128, )))\n",
        "\n",
        "model.add(MaxPooling1D(pool_size=(5)))\n",
        "model.add(BatchNormalization())\n",
        "model.add(Bidirectional(LSTM(128, return_sequences=False)))\n",
        "\n",
        "model.add(Dropout(0.5))\n",
        "model.add(Dense(4))\n",
        "model.add(Activation('softmax'))\n",
        "model.compile(loss='categorical_crossentropy',\n",
        "              optimizer='adam', metrics=['accuracy'])"
      ]
    },
    {
      "cell_type": "code",
      "execution_count": 48,
      "id": "2b1eb037",
      "metadata": {
        "id": "2b1eb037",
        "outputId": "7f153a6e-3151-4282-d8d1-682a4f88f88a",
        "colab": {
          "base_uri": "https://localhost:8080/",
          "height": 521
        }
      },
      "outputs": [
        {
          "output_type": "display_data",
          "data": {
            "text/plain": [
              "\u001b[1mModel: \"sequential_4\"\u001b[0m\n"
            ],
            "text/html": [
              "<pre style=\"white-space:pre;overflow-x:auto;line-height:normal;font-family:Menlo,'DejaVu Sans Mono',consolas,'Courier New',monospace\"><span style=\"font-weight: bold\">Model: \"sequential_4\"</span>\n",
              "</pre>\n"
            ]
          },
          "metadata": {}
        },
        {
          "output_type": "display_data",
          "data": {
            "text/plain": [
              "┏━━━━━━━━━━━━━━━━━━━━━━━━━━━━━━━━━━━━━━━━━━━━┳━━━━━━━━━━━━━━━━━━━━━━━━━━━━━━━━━┳━━━━━━━━━━━━━━━━━━━┓\n",
              "┃\u001b[1m \u001b[0m\u001b[1mLayer (type)                              \u001b[0m\u001b[1m \u001b[0m┃\u001b[1m \u001b[0m\u001b[1mOutput Shape                   \u001b[0m\u001b[1m \u001b[0m┃\u001b[1m \u001b[0m\u001b[1m          Param #\u001b[0m\u001b[1m \u001b[0m┃\n",
              "┡━━━━━━━━━━━━━━━━━━━━━━━━━━━━━━━━━━━━━━━━━━━━╇━━━━━━━━━━━━━━━━━━━━━━━━━━━━━━━━━╇━━━━━━━━━━━━━━━━━━━┩\n",
              "│ conv1d_4 (\u001b[38;5;33mConv1D\u001b[0m)                          │ (\u001b[38;5;45mNone\u001b[0m, \u001b[38;5;34m76\u001b[0m, \u001b[38;5;34m64\u001b[0m)                  │             \u001b[38;5;34m2,112\u001b[0m │\n",
              "├────────────────────────────────────────────┼─────────────────────────────────┼───────────────────┤\n",
              "│ max_pooling1d_8 (\u001b[38;5;33mMaxPooling1D\u001b[0m)             │ (\u001b[38;5;45mNone\u001b[0m, \u001b[38;5;34m15\u001b[0m, \u001b[38;5;34m64\u001b[0m)                  │                 \u001b[38;5;34m0\u001b[0m │\n",
              "├────────────────────────────────────────────┼─────────────────────────────────┼───────────────────┤\n",
              "│ batch_normalization_8 (\u001b[38;5;33mBatchNormalization\u001b[0m) │ (\u001b[38;5;45mNone\u001b[0m, \u001b[38;5;34m15\u001b[0m, \u001b[38;5;34m64\u001b[0m)                  │               \u001b[38;5;34m256\u001b[0m │\n",
              "├────────────────────────────────────────────┼─────────────────────────────────┼───────────────────┤\n",
              "│ bidirectional_8 (\u001b[38;5;33mBidirectional\u001b[0m)            │ (\u001b[38;5;45mNone\u001b[0m, \u001b[38;5;34m128\u001b[0m)                     │            \u001b[38;5;34m66,048\u001b[0m │\n",
              "├────────────────────────────────────────────┼─────────────────────────────────┼───────────────────┤\n",
              "│ reshape_4 (\u001b[38;5;33mReshape\u001b[0m)                        │ (\u001b[38;5;45mNone\u001b[0m, \u001b[38;5;34m128\u001b[0m, \u001b[38;5;34m1\u001b[0m)                  │                 \u001b[38;5;34m0\u001b[0m │\n",
              "├────────────────────────────────────────────┼─────────────────────────────────┼───────────────────┤\n",
              "│ max_pooling1d_9 (\u001b[38;5;33mMaxPooling1D\u001b[0m)             │ (\u001b[38;5;45mNone\u001b[0m, \u001b[38;5;34m25\u001b[0m, \u001b[38;5;34m1\u001b[0m)                   │                 \u001b[38;5;34m0\u001b[0m │\n",
              "├────────────────────────────────────────────┼─────────────────────────────────┼───────────────────┤\n",
              "│ batch_normalization_9 (\u001b[38;5;33mBatchNormalization\u001b[0m) │ (\u001b[38;5;45mNone\u001b[0m, \u001b[38;5;34m25\u001b[0m, \u001b[38;5;34m1\u001b[0m)                   │                 \u001b[38;5;34m4\u001b[0m │\n",
              "├────────────────────────────────────────────┼─────────────────────────────────┼───────────────────┤\n",
              "│ bidirectional_9 (\u001b[38;5;33mBidirectional\u001b[0m)            │ (\u001b[38;5;45mNone\u001b[0m, \u001b[38;5;34m256\u001b[0m)                     │           \u001b[38;5;34m133,120\u001b[0m │\n",
              "├────────────────────────────────────────────┼─────────────────────────────────┼───────────────────┤\n",
              "│ dropout_4 (\u001b[38;5;33mDropout\u001b[0m)                        │ (\u001b[38;5;45mNone\u001b[0m, \u001b[38;5;34m256\u001b[0m)                     │                 \u001b[38;5;34m0\u001b[0m │\n",
              "├────────────────────────────────────────────┼─────────────────────────────────┼───────────────────┤\n",
              "│ dense_4 (\u001b[38;5;33mDense\u001b[0m)                            │ (\u001b[38;5;45mNone\u001b[0m, \u001b[38;5;34m4\u001b[0m)                       │             \u001b[38;5;34m1,028\u001b[0m │\n",
              "├────────────────────────────────────────────┼─────────────────────────────────┼───────────────────┤\n",
              "│ activation_4 (\u001b[38;5;33mActivation\u001b[0m)                  │ (\u001b[38;5;45mNone\u001b[0m, \u001b[38;5;34m4\u001b[0m)                       │                 \u001b[38;5;34m0\u001b[0m │\n",
              "└────────────────────────────────────────────┴─────────────────────────────────┴───────────────────┘\n"
            ],
            "text/html": [
              "<pre style=\"white-space:pre;overflow-x:auto;line-height:normal;font-family:Menlo,'DejaVu Sans Mono',consolas,'Courier New',monospace\">┏━━━━━━━━━━━━━━━━━━━━━━━━━━━━━━━━━━━━━━━━━━━━┳━━━━━━━━━━━━━━━━━━━━━━━━━━━━━━━━━┳━━━━━━━━━━━━━━━━━━━┓\n",
              "┃<span style=\"font-weight: bold\"> Layer (type)                               </span>┃<span style=\"font-weight: bold\"> Output Shape                    </span>┃<span style=\"font-weight: bold\">           Param # </span>┃\n",
              "┡━━━━━━━━━━━━━━━━━━━━━━━━━━━━━━━━━━━━━━━━━━━━╇━━━━━━━━━━━━━━━━━━━━━━━━━━━━━━━━━╇━━━━━━━━━━━━━━━━━━━┩\n",
              "│ conv1d_4 (<span style=\"color: #0087ff; text-decoration-color: #0087ff\">Conv1D</span>)                          │ (<span style=\"color: #00d7ff; text-decoration-color: #00d7ff\">None</span>, <span style=\"color: #00af00; text-decoration-color: #00af00\">76</span>, <span style=\"color: #00af00; text-decoration-color: #00af00\">64</span>)                  │             <span style=\"color: #00af00; text-decoration-color: #00af00\">2,112</span> │\n",
              "├────────────────────────────────────────────┼─────────────────────────────────┼───────────────────┤\n",
              "│ max_pooling1d_8 (<span style=\"color: #0087ff; text-decoration-color: #0087ff\">MaxPooling1D</span>)             │ (<span style=\"color: #00d7ff; text-decoration-color: #00d7ff\">None</span>, <span style=\"color: #00af00; text-decoration-color: #00af00\">15</span>, <span style=\"color: #00af00; text-decoration-color: #00af00\">64</span>)                  │                 <span style=\"color: #00af00; text-decoration-color: #00af00\">0</span> │\n",
              "├────────────────────────────────────────────┼─────────────────────────────────┼───────────────────┤\n",
              "│ batch_normalization_8 (<span style=\"color: #0087ff; text-decoration-color: #0087ff\">BatchNormalization</span>) │ (<span style=\"color: #00d7ff; text-decoration-color: #00d7ff\">None</span>, <span style=\"color: #00af00; text-decoration-color: #00af00\">15</span>, <span style=\"color: #00af00; text-decoration-color: #00af00\">64</span>)                  │               <span style=\"color: #00af00; text-decoration-color: #00af00\">256</span> │\n",
              "├────────────────────────────────────────────┼─────────────────────────────────┼───────────────────┤\n",
              "│ bidirectional_8 (<span style=\"color: #0087ff; text-decoration-color: #0087ff\">Bidirectional</span>)            │ (<span style=\"color: #00d7ff; text-decoration-color: #00d7ff\">None</span>, <span style=\"color: #00af00; text-decoration-color: #00af00\">128</span>)                     │            <span style=\"color: #00af00; text-decoration-color: #00af00\">66,048</span> │\n",
              "├────────────────────────────────────────────┼─────────────────────────────────┼───────────────────┤\n",
              "│ reshape_4 (<span style=\"color: #0087ff; text-decoration-color: #0087ff\">Reshape</span>)                        │ (<span style=\"color: #00d7ff; text-decoration-color: #00d7ff\">None</span>, <span style=\"color: #00af00; text-decoration-color: #00af00\">128</span>, <span style=\"color: #00af00; text-decoration-color: #00af00\">1</span>)                  │                 <span style=\"color: #00af00; text-decoration-color: #00af00\">0</span> │\n",
              "├────────────────────────────────────────────┼─────────────────────────────────┼───────────────────┤\n",
              "│ max_pooling1d_9 (<span style=\"color: #0087ff; text-decoration-color: #0087ff\">MaxPooling1D</span>)             │ (<span style=\"color: #00d7ff; text-decoration-color: #00d7ff\">None</span>, <span style=\"color: #00af00; text-decoration-color: #00af00\">25</span>, <span style=\"color: #00af00; text-decoration-color: #00af00\">1</span>)                   │                 <span style=\"color: #00af00; text-decoration-color: #00af00\">0</span> │\n",
              "├────────────────────────────────────────────┼─────────────────────────────────┼───────────────────┤\n",
              "│ batch_normalization_9 (<span style=\"color: #0087ff; text-decoration-color: #0087ff\">BatchNormalization</span>) │ (<span style=\"color: #00d7ff; text-decoration-color: #00d7ff\">None</span>, <span style=\"color: #00af00; text-decoration-color: #00af00\">25</span>, <span style=\"color: #00af00; text-decoration-color: #00af00\">1</span>)                   │                 <span style=\"color: #00af00; text-decoration-color: #00af00\">4</span> │\n",
              "├────────────────────────────────────────────┼─────────────────────────────────┼───────────────────┤\n",
              "│ bidirectional_9 (<span style=\"color: #0087ff; text-decoration-color: #0087ff\">Bidirectional</span>)            │ (<span style=\"color: #00d7ff; text-decoration-color: #00d7ff\">None</span>, <span style=\"color: #00af00; text-decoration-color: #00af00\">256</span>)                     │           <span style=\"color: #00af00; text-decoration-color: #00af00\">133,120</span> │\n",
              "├────────────────────────────────────────────┼─────────────────────────────────┼───────────────────┤\n",
              "│ dropout_4 (<span style=\"color: #0087ff; text-decoration-color: #0087ff\">Dropout</span>)                        │ (<span style=\"color: #00d7ff; text-decoration-color: #00d7ff\">None</span>, <span style=\"color: #00af00; text-decoration-color: #00af00\">256</span>)                     │                 <span style=\"color: #00af00; text-decoration-color: #00af00\">0</span> │\n",
              "├────────────────────────────────────────────┼─────────────────────────────────┼───────────────────┤\n",
              "│ dense_4 (<span style=\"color: #0087ff; text-decoration-color: #0087ff\">Dense</span>)                            │ (<span style=\"color: #00d7ff; text-decoration-color: #00d7ff\">None</span>, <span style=\"color: #00af00; text-decoration-color: #00af00\">4</span>)                       │             <span style=\"color: #00af00; text-decoration-color: #00af00\">1,028</span> │\n",
              "├────────────────────────────────────────────┼─────────────────────────────────┼───────────────────┤\n",
              "│ activation_4 (<span style=\"color: #0087ff; text-decoration-color: #0087ff\">Activation</span>)                  │ (<span style=\"color: #00d7ff; text-decoration-color: #00d7ff\">None</span>, <span style=\"color: #00af00; text-decoration-color: #00af00\">4</span>)                       │                 <span style=\"color: #00af00; text-decoration-color: #00af00\">0</span> │\n",
              "└────────────────────────────────────────────┴─────────────────────────────────┴───────────────────┘\n",
              "</pre>\n"
            ]
          },
          "metadata": {}
        },
        {
          "output_type": "display_data",
          "data": {
            "text/plain": [
              "\u001b[1m Total params: \u001b[0m\u001b[38;5;34m202,568\u001b[0m (791.28 KB)\n"
            ],
            "text/html": [
              "<pre style=\"white-space:pre;overflow-x:auto;line-height:normal;font-family:Menlo,'DejaVu Sans Mono',consolas,'Courier New',monospace\"><span style=\"font-weight: bold\"> Total params: </span><span style=\"color: #00af00; text-decoration-color: #00af00\">202,568</span> (791.28 KB)\n",
              "</pre>\n"
            ]
          },
          "metadata": {}
        },
        {
          "output_type": "display_data",
          "data": {
            "text/plain": [
              "\u001b[1m Trainable params: \u001b[0m\u001b[38;5;34m202,438\u001b[0m (790.77 KB)\n"
            ],
            "text/html": [
              "<pre style=\"white-space:pre;overflow-x:auto;line-height:normal;font-family:Menlo,'DejaVu Sans Mono',consolas,'Courier New',monospace\"><span style=\"font-weight: bold\"> Trainable params: </span><span style=\"color: #00af00; text-decoration-color: #00af00\">202,438</span> (790.77 KB)\n",
              "</pre>\n"
            ]
          },
          "metadata": {}
        },
        {
          "output_type": "display_data",
          "data": {
            "text/plain": [
              "\u001b[1m Non-trainable params: \u001b[0m\u001b[38;5;34m130\u001b[0m (520.00 B)\n"
            ],
            "text/html": [
              "<pre style=\"white-space:pre;overflow-x:auto;line-height:normal;font-family:Menlo,'DejaVu Sans Mono',consolas,'Courier New',monospace\"><span style=\"font-weight: bold\"> Non-trainable params: </span><span style=\"color: #00af00; text-decoration-color: #00af00\">130</span> (520.00 B)\n",
              "</pre>\n"
            ]
          },
          "metadata": {}
        }
      ],
      "source": [
        "model.summary(line_length=100)"
      ]
    },
    {
      "cell_type": "markdown",
      "id": "1e5ab17e",
      "metadata": {
        "id": "1e5ab17e"
      },
      "source": [
        "## The neural network training"
      ]
    },
    {
      "cell_type": "markdown",
      "id": "bee05d2f",
      "metadata": {
        "id": "bee05d2f"
      },
      "source": [
        "We use Stratified K-Folds cross-validation in our experiment."
      ]
    },
    {
      "cell_type": "code",
      "execution_count": 49,
      "id": "0cc721f8",
      "metadata": {
        "id": "0cc721f8"
      },
      "outputs": [],
      "source": [
        "cv = StratifiedKFold(n_splits=5, shuffle=True, random_state=42)"
      ]
    },
    {
      "cell_type": "markdown",
      "id": "c191abe7",
      "metadata": {
        "id": "c191abe7"
      },
      "source": [
        "Evaluation metrics are stored for each fold."
      ]
    },
    {
      "cell_type": "code",
      "execution_count": 50,
      "id": "8afbc06c",
      "metadata": {
        "id": "8afbc06c"
      },
      "outputs": [],
      "source": [
        "scores = pd.DataFrame(columns=[1, 2, 3, 4, 5, 'Mean'],\n",
        "                      index=['Accuracy', 'Precision', 'Recall', 'F1'])"
      ]
    },
    {
      "cell_type": "markdown",
      "id": "56725714",
      "metadata": {
        "id": "56725714"
      },
      "source": [
        "We use the following function to get evaluation metrics."
      ]
    },
    {
      "cell_type": "code",
      "execution_count": 51,
      "id": "0df92a75",
      "metadata": {
        "id": "0df92a75"
      },
      "outputs": [],
      "source": [
        "def print_metrics(y_eval: np.ndarray, y_pred: np.ndarray, average: str = 'binary') -> List[float]:\n",
        "    accuracy = metrics.accuracy_score(y_eval, y_pred)\n",
        "    precision = metrics.precision_score(y_eval, y_pred, average=average)\n",
        "    recall = metrics.recall_score(y_eval, y_pred, average=average)\n",
        "    f1 = metrics.f1_score(y_eval, y_pred, average=average)\n",
        "\n",
        "    print('Accuracy =', accuracy)\n",
        "    print('Precision =', precision)\n",
        "    print('Recall =', recall)\n",
        "    print('F1 =', f1)\n",
        "\n",
        "    return [accuracy, precision, recall, f1]"
      ]
    },
    {
      "cell_type": "markdown",
      "id": "a1c0bfd2",
      "metadata": {
        "id": "a1c0bfd2"
      },
      "source": [
        "All test and predicted labels are also stored at each step of cross-validation. They will be used to calculate a confusion matrix."
      ]
    },
    {
      "cell_type": "code",
      "execution_count": 52,
      "id": "e059017d",
      "metadata": {
        "id": "e059017d"
      },
      "outputs": [],
      "source": [
        "actual_targets = np.empty([0], dtype=float)\n",
        "predicted_targets = np.empty([0], dtype=float)"
      ]
    },
    {
      "cell_type": "markdown",
      "id": "0bb28309",
      "metadata": {
        "id": "0bb28309"
      },
      "source": [
        "On each fold, we use the following function to transform the data, to fit and to validate the neural network. Note that data preprocessing is largely performed at the cross-validation step to prevent data leakage."
      ]
    },
    {
      "cell_type": "code",
      "execution_count": 53,
      "id": "e438b829",
      "metadata": {
        "id": "e438b829"
      },
      "outputs": [],
      "source": [
        "def train_and_validate(model: Sequential,\n",
        "                       X: pd.DataFrame,\n",
        "                       y: pd.Series,\n",
        "                       train_index: np.ndarray,\n",
        "                       test_index: np.ndarray,\n",
        "                       scaler: sklearn.preprocessing.MinMaxScaler) -> Tuple[np.ndarray, np.ndarray]:\n",
        "    # Get the test data and the validation data for a current fold.\n",
        "    X_train, X_test = X.iloc[train_index], X.iloc[test_index]\n",
        "    y_train, y_test = y[train_index], y[test_index]\n",
        "\n",
        "    print(\"Train index:\", train_index)\n",
        "    print(\"Test index:\", test_index)\n",
        "\n",
        "    # Feature scaling of data.\n",
        "    X_train = scaler.fit_transform(X_train)\n",
        "    X_test = scaler.fit_transform(X_test)\n",
        "\n",
        "    # We need to reshape feature vectors to use them as the neural network input.\n",
        "    X_train = np.reshape(\n",
        "        X_train, (X_train.shape[0], X_train.shape[1], 1))\n",
        "    X_test = np.reshape(\n",
        "        X_test, (X_test.shape[0], X_test.shape[1], 1))\n",
        "\n",
        "    # One-Hot encoding for labels.\n",
        "    y_train_encoded = pd.get_dummies(y_train).values\n",
        "    y_test_encoded = pd.get_dummies(y_test).values\n",
        "\n",
        "    # Fit the neural network model.\n",
        "    model.fit(X_train, y_train_encoded, validation_data=(\n",
        "        X_test, y_test_encoded), epochs=10)\n",
        "\n",
        "    # Apply the neural network model to the validation data and get the accuracy of this prediction.\n",
        "    y_pred = model.predict(X_test)\n",
        "    y_pred = np.argmax(y_pred, axis=1)\n",
        "    y_eval = np.argmax(y_test_encoded, axis=1)\n",
        "\n",
        "    return y_eval, y_pred"
      ]
    },
    {
      "cell_type": "markdown",
      "id": "7204550c",
      "metadata": {
        "id": "7204550c"
      },
      "source": [
        "The training step is designed for the use with different versions of Tensorflow, if necessary. It is also possible to choose whether the training should be performed by CPU or GPU.\n",
        "\n",
        "This step may take some time, 13 minutes or more depending on the CPU performance (it will be faster with GPU)."
      ]
    },
    {
      "source": [
        "import pandas as pd\n",
        "import numpy as np\n",
        "\n",
        "df = pd.read_csv(\"DDoS-SYN_Flood.pcap.csv\")  # Or your actual dataset\n",
        "\n",
        "# Keep only numeric features\n",
        "df = df.select_dtypes(include=[np.number])\n",
        "df.replace([np.inf, -np.inf], np.nan, inplace=True)\n",
        "df.dropna(inplace=True)\n",
        "\n",
        "print(\"✅ Number of features:\", df.shape[1] - 1)  # One column is the label\n"
      ],
      "cell_type": "code",
      "metadata": {
        "id": "wmXvOkxNAyXG",
        "outputId": "7a46ede7-80e6-4993-f86b-4f04bcd42203",
        "colab": {
          "base_uri": "https://localhost:8080/"
        }
      },
      "id": "wmXvOkxNAyXG",
      "execution_count": 55,
      "outputs": [
        {
          "output_type": "stream",
          "name": "stdout",
          "text": [
            "✅ Number of features: 38\n"
          ]
        }
      ]
    },
    {
      "cell_type": "code",
      "source": [
        "from sklearn.preprocessing import StandardScaler, LabelEncoder\n",
        "from tensorflow.keras.utils import to_categorical\n",
        "\n",
        "X = df.iloc[:, :-1].values  # Features (38)\n",
        "y = df.iloc[:, -1].values   # Labels\n",
        "\n",
        "# Normalize features\n",
        "scaler = StandardScaler()\n",
        "X_scaled = scaler.fit_transform(X)\n",
        "X_input = X_scaled.reshape(X_scaled.shape[0], X_scaled.shape[1], 1)\n",
        "\n",
        "# Encode labels\n",
        "encoder = LabelEncoder()\n",
        "y_encoded = encoder.fit_transform(y)\n",
        "y_cat = to_categorical(y_encoded)\n"
      ],
      "metadata": {
        "id": "WiUhyhlwDpT3"
      },
      "id": "WiUhyhlwDpT3",
      "execution_count": 56,
      "outputs": []
    },
    {
      "cell_type": "code",
      "source": [
        "from sklearn.preprocessing import StandardScaler, LabelEncoder\n",
        "from tensorflow.keras.utils import to_categorical\n",
        "\n",
        "X = df.iloc[:, :-1].values  # Features (38)\n",
        "y = df.iloc[:, -1].values   # Labels\n",
        "\n",
        "# Normalize features\n",
        "scaler = StandardScaler()\n",
        "X_scaled = scaler.fit_transform(X)\n",
        "X_input = X_scaled.reshape(X_scaled.shape[0], X_scaled.shape[1], 1)\n",
        "\n",
        "# Encode labels\n",
        "encoder = LabelEncoder()\n",
        "y_encoded = encoder.fit_transform(y)\n",
        "y_cat = to_categorical(y_encoded)\n"
      ],
      "metadata": {
        "id": "jwwHx9JBDth8"
      },
      "id": "jwwHx9JBDth8",
      "execution_count": 57,
      "outputs": []
    },
    {
      "source": [
        "import numpy as np\n",
        "import pandas as pd\n",
        "import tensorflow as tf\n",
        "from sklearn.preprocessing import StandardScaler, LabelEncoder\n",
        "from tensorflow.keras.utils import to_categorical\n",
        "\n",
        "# === Step 1: Load dataset ===\n",
        "df = pd.read_csv(\"DDoS-SYN_Flood.pcap.csv\")  # Replace with actual path\n",
        "\n",
        "# Drop non-numeric columns (e.g., IPs, timestamps)\n",
        "df = df.select_dtypes(include=[np.number])\n",
        "\n",
        "# Replace inf values and drop NaNs\n",
        "df.replace([np.inf, -np.inf], np.nan, inplace=True)\n",
        "df.dropna(inplace=True)\n",
        "\n",
        "X = df.iloc[:, :-1].values  # Features\n",
        "y = df.iloc[:, -1].values   # Labels\n",
        "\n",
        "# Preprocess\n",
        "scaler = StandardScaler()\n",
        "X_scaled = scaler.fit_transform(X)\n",
        "\n",
        "# === Padding features to 76 (to match model input) ===\n",
        "def pad_features(X, target_dim=76):\n",
        "    current_dim = X.shape[1]\n",
        "    if current_dim < target_dim:\n",
        "        padding = np.zeros((X.shape[0], target_dim - current_dim))\n",
        "        return np.concatenate([X, padding], axis=1)\n",
        "    elif current_dim > target_dim:\n",
        "        return X[:, :target_dim]\n",
        "    else:\n",
        "        return X\n",
        "\n",
        "X_padded = pad_features(X_scaled, 76)\n",
        "X_input = X_padded.reshape(X_padded.shape[0], 76, 1)  # For CNN input\n",
        "\n",
        "# Encode labels\n",
        "encoder = LabelEncoder()\n",
        "y_encoded = encoder.fit_transform(y)\n",
        "y_cat = to_categorical(y_encoded)\n",
        "\n",
        "# === Step 2: Load TFLite model ===\n",
        "interpreter = tf.lite.Interpreter(model_path='model.tflite')\n",
        "interpreter.allocate_tensors()\n",
        "\n",
        "input_details = interpreter.get_input_details()\n",
        "output_details = interpreter.get_output_details()\n",
        "\n",
        "# === Step 3: Predict with TFLite ===\n",
        "predictions = []\n",
        "\n",
        "for i in range(len(X_input)):\n",
        "    input_data = np.expand_dims(X_input[i], axis=0).astype(np.float32)  # shape: (1, 76, 1)\n",
        "    interpreter.set_tensor(input_details[0]['index'], input_data)\n",
        "    interpreter.invoke()\n",
        "    output = interpreter.get_tensor(output_details[0]['index'])\n",
        "    predictions.append(np.argmax(output))\n",
        "\n",
        "# === Step 4: Accuracy (Optional) ===\n",
        "if y_cat.shape[1] != output_details[0]['shape'][1]:\n",
        "    print(f\"🚨 Warning: Number of classes in data ({y_cat.shape[1]}) does not match model output classes ({output_details[0]['shape'][1]}). Accuracy may be off.\")\n",
        "\n",
        "true_classes = np.argmax(y_cat, axis=1)\n",
        "accuracy = np.mean(np.array(predictions) == true_classes)\n",
        "print(f\"✅ Accuracy on dataset: {accuracy * 100:.2f}%\")\n",
        "\n",
        "# Optional: show predictions\n",
        "print(\"🔎 Predicted classes:\", predictions[:10])\n",
        "print(\"🧾 True classes     :\", true_classes[:10])#13:27 sec\n",
        "#12:44\n"
      ],
      "cell_type": "code",
      "metadata": {
        "id": "OBNE-HD7C2MU",
        "outputId": "3087d990-ca53-4242-a01f-3b6e7fb9672a",
        "colab": {
          "base_uri": "https://localhost:8080/"
        }
      },
      "id": "OBNE-HD7C2MU",
      "execution_count": 58,
      "outputs": [
        {
          "output_type": "stream",
          "name": "stdout",
          "text": [
            "🚨 Warning: Number of classes in data (19401) does not match model output classes (4). Accuracy may be off.\n",
            "✅ Accuracy on dataset: 0.00%\n",
            "🔎 Predicted classes: [np.int64(1), np.int64(1), np.int64(1), np.int64(1), np.int64(1), np.int64(1), np.int64(1), np.int64(1), np.int64(1), np.int64(1)]\n",
            "🧾 True classes     : [2741    0  375    0    0    0   73    0 8060 6607]\n"
          ]
        }
      ]
    },
    {
      "cell_type": "code",
      "source": [
        "# Convert predictions to numpy array for indexing\n",
        "predictions_np = np.array(predictions)\n",
        "\n",
        "# Find indexes of malicious predictions (change 1 to your malicious class index)\n",
        "malicious_class_index = 1\n",
        "malicious_indices = np.where(predictions_np == malicious_class_index)[0]\n",
        "\n",
        "# Get the original dataset rows predicted as malicious\n",
        "malicious_packets = df.iloc[malicious_indices]\n",
        "\n",
        "print(f\"Number of malicious packets predicted: {len(malicious_packets)}\")\n",
        "print(malicious_packets.head())\n"
      ],
      "metadata": {
        "id": "UhCK13HKGCN2",
        "outputId": "8cd4c6b4-65de-4010-c6ad-43eb9472f92c",
        "colab": {
          "base_uri": "https://localhost:8080/"
        }
      },
      "id": "UhCK13HKGCN2",
      "execution_count": 59,
      "outputs": [
        {
          "output_type": "stream",
          "name": "stdout",
          "text": [
            "Number of malicious packets predicted: 265984\n",
            "   Header_Length  Protocol Type  Time_To_Live          Rate  fin_flag_number  \\\n",
            "0          19.60              6         63.36   2517.060642             0.00   \n",
            "1          20.00              6         64.00  16163.021195             0.00   \n",
            "2          20.36              6         63.57   6324.247222             0.01   \n",
            "3          19.80              6         63.36   7081.145327             0.00   \n",
            "4          20.00              6         64.00  15770.431644             0.00   \n",
            "\n",
            "   syn_flag_number  rst_flag_number  psh_flag_number  ack_flag_number  \\\n",
            "0             0.98              0.0             0.00             0.00   \n",
            "1             1.00              0.0             0.00             0.00   \n",
            "2             0.97              0.0             0.01             0.03   \n",
            "3             0.99              0.0             0.00             0.00   \n",
            "4             1.00              0.0             0.00             0.00   \n",
            "\n",
            "   ece_flag_number  ...   LLC  Tot sum  Min  Max    AVG       Std  Tot size  \\\n",
            "0              0.0  ...  0.99     6038   60   98  60.38  3.800000     60.38   \n",
            "1              0.0  ...  1.00     6000   60   60  60.00  0.000000     60.00   \n",
            "2              0.0  ...  1.00     6025   60   73  60.25  1.539874     60.25   \n",
            "3              0.0  ...  0.99     6000   60   60  60.00  0.000000     60.00   \n",
            "4              0.0  ...  1.00     6000   60   60  60.00  0.000000     60.00   \n",
            "\n",
            "        IAT  Number   Variance  \n",
            "0  0.000397     100  14.440000  \n",
            "1  0.000062     100   0.000000  \n",
            "2  0.000158     100   2.371212  \n",
            "3  0.000141     100   0.000000  \n",
            "4  0.000063     100   0.000000  \n",
            "\n",
            "[5 rows x 39 columns]\n"
          ]
        }
      ]
    },
    {
      "cell_type": "code",
      "source": [
        "# Convert predictions to numpy array for indexing\n",
        "predictions_np = np.array(predictions)\n",
        "\n",
        "# Find indexes of malicious predictions (change 1 to your malicious class index)\n",
        "malicious_class_index = 1\n",
        "malicious_indices = np.where(predictions_np == malicious_class_index)[0]\n",
        "\n",
        "# Get the original dataset rows predicted as malicious\n",
        "malicious_packets = df.iloc[malicious_indices]\n",
        "\n",
        "print(f\"Number of malicious packets predicted: {len(malicious_packets)}\")\n",
        "print(malicious_packets.head())\n"
      ],
      "metadata": {
        "id": "NizD_NLvEb7q",
        "outputId": "4dae019d-a429-4d66-f1f5-999a97b64dcc",
        "colab": {
          "base_uri": "https://localhost:8080/"
        }
      },
      "id": "NizD_NLvEb7q",
      "execution_count": 60,
      "outputs": [
        {
          "output_type": "stream",
          "name": "stdout",
          "text": [
            "Number of malicious packets predicted: 265984\n",
            "   Header_Length  Protocol Type  Time_To_Live          Rate  fin_flag_number  \\\n",
            "0          19.60              6         63.36   2517.060642             0.00   \n",
            "1          20.00              6         64.00  16163.021195             0.00   \n",
            "2          20.36              6         63.57   6324.247222             0.01   \n",
            "3          19.80              6         63.36   7081.145327             0.00   \n",
            "4          20.00              6         64.00  15770.431644             0.00   \n",
            "\n",
            "   syn_flag_number  rst_flag_number  psh_flag_number  ack_flag_number  \\\n",
            "0             0.98              0.0             0.00             0.00   \n",
            "1             1.00              0.0             0.00             0.00   \n",
            "2             0.97              0.0             0.01             0.03   \n",
            "3             0.99              0.0             0.00             0.00   \n",
            "4             1.00              0.0             0.00             0.00   \n",
            "\n",
            "   ece_flag_number  ...   LLC  Tot sum  Min  Max    AVG       Std  Tot size  \\\n",
            "0              0.0  ...  0.99     6038   60   98  60.38  3.800000     60.38   \n",
            "1              0.0  ...  1.00     6000   60   60  60.00  0.000000     60.00   \n",
            "2              0.0  ...  1.00     6025   60   73  60.25  1.539874     60.25   \n",
            "3              0.0  ...  0.99     6000   60   60  60.00  0.000000     60.00   \n",
            "4              0.0  ...  1.00     6000   60   60  60.00  0.000000     60.00   \n",
            "\n",
            "        IAT  Number   Variance  \n",
            "0  0.000397     100  14.440000  \n",
            "1  0.000062     100   0.000000  \n",
            "2  0.000158     100   2.371212  \n",
            "3  0.000141     100   0.000000  \n",
            "4  0.000063     100   0.000000  \n",
            "\n",
            "[5 rows x 39 columns]\n"
          ]
        }
      ]
    },
    {
      "cell_type": "markdown",
      "id": "90c18a25",
      "metadata": {
        "id": "90c18a25"
      },
      "source": [
        "## Model evaluation"
      ]
    },
    {
      "source": [
        "import tensorflow as tf\n",
        "from tensorflow.keras.layers import Dense, Dropout, Activation\n",
        "from tensorflow.keras.layers import LSTM, Bidirectional, BatchNormalization, Convolution1D, MaxPooling1D, Reshape\n",
        "from tensorflow.keras.models import Sequential\n",
        "\n",
        "# Define and compile the neural network.\n",
        "# <p> We use a sequential model with CNN and BiLSTM layers, and batch normalization is applied before BiLSTM layers. A dropout layer is put before the final layer to prevent overfitting.\n",
        "# <p> Categorical cross-entropy is chosen as a loss function because of the multiclass classification. To get the classification result, the softmax activation function is applied to the output of the last, fully connected layer.\n",
        "\n",
        "# **Important:** This model definition should match the one used for training.\n",
        "# Assuming the goal is multiclass classification based on the original notebook structure before the binary comparison section.\n",
        "batch_size = 32 # This variable was used in the training cell, defined here for completeness.\n",
        "model = Sequential()\n",
        "model.add(Convolution1D(64, kernel_size=32, padding=\"same\",\n",
        "          activation=\"relu\", input_shape=(76, 1)))\n",
        "model.add(MaxPooling1D(pool_size=(5)))\n",
        "model.add(BatchNormalization())\n",
        "model.add(Bidirectional(LSTM(64, return_sequences=False)))\n",
        "model.add(Reshape((128, 1), input_shape=(128, ))) # This reshape was present in the original multiclass model\n",
        "\n",
        "model.add(MaxPooling1D(pool_size=(5)))\n",
        "model.add(BatchNormalization())\n",
        "model.add(Bidirectional(LSTM(128, return_sequences=False)))\n",
        "\n",
        "model.add(Dropout(0.5))\n",
        "model.add(Dense(4)) # Use 4 for multiclass classification as in the initial setup\n",
        "model.add(Activation('softmax'))\n",
        "model.compile(loss='categorical_crossentropy',\n",
        "              optimizer='adam', metrics=['accuracy'])\n",
        "\n",
        "\n",
        "# Convert the Keras model to TensorFlow Lite with LSTM support\n",
        "converter = tf.lite.TFLiteConverter.from_keras_model(model)\n",
        "converter.experimental_enable_resource_variables = True\n",
        "converter._experimental_lower_tensor_list_ops = False\n",
        "converter.target_spec.supported_ops = [\n",
        "    tf.lite.OpsSet.TFLITE_BUILTINS,\n",
        "    tf.lite.OpsSet.SELECT_TF_OPS\n",
        "]\n",
        "converter.optimizations = [tf.lite.Optimize.DEFAULT]\n",
        "\n",
        "# Perform conversion\n",
        "tflite_model = converter.convert()\n",
        "\n",
        "# Save TFLite model locally\n",
        "with open('model.tflite', 'wb') as f:\n",
        "    f.write(tflite_model)\n",
        "\n",
        "print(\"✅ Model saved locally as 'model.tflite'\")"
      ],
      "cell_type": "code",
      "metadata": {
        "id": "s4s40fAW-0W7",
        "outputId": "8d7261ed-63e5-4961-facb-a131ae204246",
        "colab": {
          "base_uri": "https://localhost:8080/"
        }
      },
      "id": "s4s40fAW-0W7",
      "execution_count": 61,
      "outputs": [
        {
          "output_type": "stream",
          "name": "stderr",
          "text": [
            "/usr/local/lib/python3.11/dist-packages/keras/src/layers/convolutional/base_conv.py:107: UserWarning: Do not pass an `input_shape`/`input_dim` argument to a layer. When using Sequential models, prefer using an `Input(shape)` object as the first layer in the model instead.\n",
            "  super().__init__(activity_regularizer=activity_regularizer, **kwargs)\n",
            "/usr/local/lib/python3.11/dist-packages/keras/src/layers/reshaping/reshape.py:39: UserWarning: Do not pass an `input_shape`/`input_dim` argument to a layer. When using Sequential models, prefer using an `Input(shape)` object as the first layer in the model instead.\n",
            "  super().__init__(**kwargs)\n"
          ]
        },
        {
          "output_type": "stream",
          "name": "stdout",
          "text": [
            "Saved artifact at '/tmp/tmpv1kx6hyd'. The following endpoints are available:\n",
            "\n",
            "* Endpoint 'serve'\n",
            "  args_0 (POSITIONAL_ONLY): TensorSpec(shape=(None, 76, 1), dtype=tf.float32, name='keras_tensor_335')\n",
            "Output Type:\n",
            "  TensorSpec(shape=(None, 4), dtype=tf.float32, name=None)\n",
            "Captures:\n",
            "  140472252506256: TensorSpec(shape=(), dtype=tf.resource, name=None)\n",
            "  140472252504144: TensorSpec(shape=(), dtype=tf.resource, name=None)\n",
            "  140472252506064: TensorSpec(shape=(), dtype=tf.resource, name=None)\n",
            "  140472252505104: TensorSpec(shape=(), dtype=tf.resource, name=None)\n",
            "  140472252505488: TensorSpec(shape=(), dtype=tf.resource, name=None)\n",
            "  140472252503952: TensorSpec(shape=(), dtype=tf.resource, name=None)\n",
            "  140472252507216: TensorSpec(shape=(), dtype=tf.resource, name=None)\n",
            "  140472252508176: TensorSpec(shape=(), dtype=tf.resource, name=None)\n",
            "  140472252508944: TensorSpec(shape=(), dtype=tf.resource, name=None)\n",
            "  140472252507600: TensorSpec(shape=(), dtype=tf.resource, name=None)\n",
            "  140472252509520: TensorSpec(shape=(), dtype=tf.resource, name=None)\n",
            "  140472252510096: TensorSpec(shape=(), dtype=tf.resource, name=None)\n",
            "  140472252510288: TensorSpec(shape=(), dtype=tf.resource, name=None)\n",
            "  140472252507792: TensorSpec(shape=(), dtype=tf.resource, name=None)\n",
            "  140472252509136: TensorSpec(shape=(), dtype=tf.resource, name=None)\n",
            "  140472252509904: TensorSpec(shape=(), dtype=tf.resource, name=None)\n",
            "  140472252512208: TensorSpec(shape=(), dtype=tf.resource, name=None)\n",
            "  140472252513168: TensorSpec(shape=(), dtype=tf.resource, name=None)\n",
            "  140472252513936: TensorSpec(shape=(), dtype=tf.resource, name=None)\n",
            "  140472252512592: TensorSpec(shape=(), dtype=tf.resource, name=None)\n",
            "  140472252512400: TensorSpec(shape=(), dtype=tf.resource, name=None)\n",
            "  140472252510864: TensorSpec(shape=(), dtype=tf.resource, name=None)\n",
            "  140472252512784: TensorSpec(shape=(), dtype=tf.resource, name=None)\n",
            "  140472251237968: TensorSpec(shape=(), dtype=tf.resource, name=None)\n",
            "✅ Model saved locally as 'model.tflite'\n"
          ]
        }
      ]
    },
    {
      "cell_type": "markdown",
      "id": "0f9abd82",
      "metadata": {
        "id": "0f9abd82"
      },
      "source": [
        "Here we can see evaluation metrics for each fold and their mean values."
      ]
    },
    {
      "cell_type": "code",
      "execution_count": 62,
      "id": "be84bd58",
      "metadata": {
        "id": "be84bd58",
        "outputId": "6bc1a205-feda-4fb8-b7e3-43d726d6215a",
        "colab": {
          "base_uri": "https://localhost:8080/",
          "height": 174
        }
      },
      "outputs": [
        {
          "output_type": "execute_result",
          "data": {
            "text/plain": [
              "             1    2    3    4    5 Mean\n",
              "Accuracy   NaN  NaN  NaN  NaN  NaN  NaN\n",
              "Precision  NaN  NaN  NaN  NaN  NaN  NaN\n",
              "Recall     NaN  NaN  NaN  NaN  NaN  NaN\n",
              "F1         NaN  NaN  NaN  NaN  NaN  NaN"
            ],
            "text/html": [
              "\n",
              "  <div id=\"df-9ccf0ce5-6d55-4cc3-a4b2-d020b3343ae8\" class=\"colab-df-container\">\n",
              "    <div>\n",
              "<style scoped>\n",
              "    .dataframe tbody tr th:only-of-type {\n",
              "        vertical-align: middle;\n",
              "    }\n",
              "\n",
              "    .dataframe tbody tr th {\n",
              "        vertical-align: top;\n",
              "    }\n",
              "\n",
              "    .dataframe thead th {\n",
              "        text-align: right;\n",
              "    }\n",
              "</style>\n",
              "<table border=\"1\" class=\"dataframe\">\n",
              "  <thead>\n",
              "    <tr style=\"text-align: right;\">\n",
              "      <th></th>\n",
              "      <th>1</th>\n",
              "      <th>2</th>\n",
              "      <th>3</th>\n",
              "      <th>4</th>\n",
              "      <th>5</th>\n",
              "      <th>Mean</th>\n",
              "    </tr>\n",
              "  </thead>\n",
              "  <tbody>\n",
              "    <tr>\n",
              "      <th>Accuracy</th>\n",
              "      <td>NaN</td>\n",
              "      <td>NaN</td>\n",
              "      <td>NaN</td>\n",
              "      <td>NaN</td>\n",
              "      <td>NaN</td>\n",
              "      <td>NaN</td>\n",
              "    </tr>\n",
              "    <tr>\n",
              "      <th>Precision</th>\n",
              "      <td>NaN</td>\n",
              "      <td>NaN</td>\n",
              "      <td>NaN</td>\n",
              "      <td>NaN</td>\n",
              "      <td>NaN</td>\n",
              "      <td>NaN</td>\n",
              "    </tr>\n",
              "    <tr>\n",
              "      <th>Recall</th>\n",
              "      <td>NaN</td>\n",
              "      <td>NaN</td>\n",
              "      <td>NaN</td>\n",
              "      <td>NaN</td>\n",
              "      <td>NaN</td>\n",
              "      <td>NaN</td>\n",
              "    </tr>\n",
              "    <tr>\n",
              "      <th>F1</th>\n",
              "      <td>NaN</td>\n",
              "      <td>NaN</td>\n",
              "      <td>NaN</td>\n",
              "      <td>NaN</td>\n",
              "      <td>NaN</td>\n",
              "      <td>NaN</td>\n",
              "    </tr>\n",
              "  </tbody>\n",
              "</table>\n",
              "</div>\n",
              "    <div class=\"colab-df-buttons\">\n",
              "\n",
              "  <div class=\"colab-df-container\">\n",
              "    <button class=\"colab-df-convert\" onclick=\"convertToInteractive('df-9ccf0ce5-6d55-4cc3-a4b2-d020b3343ae8')\"\n",
              "            title=\"Convert this dataframe to an interactive table.\"\n",
              "            style=\"display:none;\">\n",
              "\n",
              "  <svg xmlns=\"http://www.w3.org/2000/svg\" height=\"24px\" viewBox=\"0 -960 960 960\">\n",
              "    <path d=\"M120-120v-720h720v720H120Zm60-500h600v-160H180v160Zm220 220h160v-160H400v160Zm0 220h160v-160H400v160ZM180-400h160v-160H180v160Zm440 0h160v-160H620v160ZM180-180h160v-160H180v160Zm440 0h160v-160H620v160Z\"/>\n",
              "  </svg>\n",
              "    </button>\n",
              "\n",
              "  <style>\n",
              "    .colab-df-container {\n",
              "      display:flex;\n",
              "      gap: 12px;\n",
              "    }\n",
              "\n",
              "    .colab-df-convert {\n",
              "      background-color: #E8F0FE;\n",
              "      border: none;\n",
              "      border-radius: 50%;\n",
              "      cursor: pointer;\n",
              "      display: none;\n",
              "      fill: #1967D2;\n",
              "      height: 32px;\n",
              "      padding: 0 0 0 0;\n",
              "      width: 32px;\n",
              "    }\n",
              "\n",
              "    .colab-df-convert:hover {\n",
              "      background-color: #E2EBFA;\n",
              "      box-shadow: 0px 1px 2px rgba(60, 64, 67, 0.3), 0px 1px 3px 1px rgba(60, 64, 67, 0.15);\n",
              "      fill: #174EA6;\n",
              "    }\n",
              "\n",
              "    .colab-df-buttons div {\n",
              "      margin-bottom: 4px;\n",
              "    }\n",
              "\n",
              "    [theme=dark] .colab-df-convert {\n",
              "      background-color: #3B4455;\n",
              "      fill: #D2E3FC;\n",
              "    }\n",
              "\n",
              "    [theme=dark] .colab-df-convert:hover {\n",
              "      background-color: #434B5C;\n",
              "      box-shadow: 0px 1px 3px 1px rgba(0, 0, 0, 0.15);\n",
              "      filter: drop-shadow(0px 1px 2px rgba(0, 0, 0, 0.3));\n",
              "      fill: #FFFFFF;\n",
              "    }\n",
              "  </style>\n",
              "\n",
              "    <script>\n",
              "      const buttonEl =\n",
              "        document.querySelector('#df-9ccf0ce5-6d55-4cc3-a4b2-d020b3343ae8 button.colab-df-convert');\n",
              "      buttonEl.style.display =\n",
              "        google.colab.kernel.accessAllowed ? 'block' : 'none';\n",
              "\n",
              "      async function convertToInteractive(key) {\n",
              "        const element = document.querySelector('#df-9ccf0ce5-6d55-4cc3-a4b2-d020b3343ae8');\n",
              "        const dataTable =\n",
              "          await google.colab.kernel.invokeFunction('convertToInteractive',\n",
              "                                                    [key], {});\n",
              "        if (!dataTable) return;\n",
              "\n",
              "        const docLinkHtml = 'Like what you see? Visit the ' +\n",
              "          '<a target=\"_blank\" href=https://colab.research.google.com/notebooks/data_table.ipynb>data table notebook</a>'\n",
              "          + ' to learn more about interactive tables.';\n",
              "        element.innerHTML = '';\n",
              "        dataTable['output_type'] = 'display_data';\n",
              "        await google.colab.output.renderOutput(dataTable, element);\n",
              "        const docLink = document.createElement('div');\n",
              "        docLink.innerHTML = docLinkHtml;\n",
              "        element.appendChild(docLink);\n",
              "      }\n",
              "    </script>\n",
              "  </div>\n",
              "\n",
              "\n",
              "    <div id=\"df-ed23b624-78fc-434a-8f3e-dff1efe40169\">\n",
              "      <button class=\"colab-df-quickchart\" onclick=\"quickchart('df-ed23b624-78fc-434a-8f3e-dff1efe40169')\"\n",
              "                title=\"Suggest charts\"\n",
              "                style=\"display:none;\">\n",
              "\n",
              "<svg xmlns=\"http://www.w3.org/2000/svg\" height=\"24px\"viewBox=\"0 0 24 24\"\n",
              "     width=\"24px\">\n",
              "    <g>\n",
              "        <path d=\"M19 3H5c-1.1 0-2 .9-2 2v14c0 1.1.9 2 2 2h14c1.1 0 2-.9 2-2V5c0-1.1-.9-2-2-2zM9 17H7v-7h2v7zm4 0h-2V7h2v10zm4 0h-2v-4h2v4z\"/>\n",
              "    </g>\n",
              "</svg>\n",
              "      </button>\n",
              "\n",
              "<style>\n",
              "  .colab-df-quickchart {\n",
              "      --bg-color: #E8F0FE;\n",
              "      --fill-color: #1967D2;\n",
              "      --hover-bg-color: #E2EBFA;\n",
              "      --hover-fill-color: #174EA6;\n",
              "      --disabled-fill-color: #AAA;\n",
              "      --disabled-bg-color: #DDD;\n",
              "  }\n",
              "\n",
              "  [theme=dark] .colab-df-quickchart {\n",
              "      --bg-color: #3B4455;\n",
              "      --fill-color: #D2E3FC;\n",
              "      --hover-bg-color: #434B5C;\n",
              "      --hover-fill-color: #FFFFFF;\n",
              "      --disabled-bg-color: #3B4455;\n",
              "      --disabled-fill-color: #666;\n",
              "  }\n",
              "\n",
              "  .colab-df-quickchart {\n",
              "    background-color: var(--bg-color);\n",
              "    border: none;\n",
              "    border-radius: 50%;\n",
              "    cursor: pointer;\n",
              "    display: none;\n",
              "    fill: var(--fill-color);\n",
              "    height: 32px;\n",
              "    padding: 0;\n",
              "    width: 32px;\n",
              "  }\n",
              "\n",
              "  .colab-df-quickchart:hover {\n",
              "    background-color: var(--hover-bg-color);\n",
              "    box-shadow: 0 1px 2px rgba(60, 64, 67, 0.3), 0 1px 3px 1px rgba(60, 64, 67, 0.15);\n",
              "    fill: var(--button-hover-fill-color);\n",
              "  }\n",
              "\n",
              "  .colab-df-quickchart-complete:disabled,\n",
              "  .colab-df-quickchart-complete:disabled:hover {\n",
              "    background-color: var(--disabled-bg-color);\n",
              "    fill: var(--disabled-fill-color);\n",
              "    box-shadow: none;\n",
              "  }\n",
              "\n",
              "  .colab-df-spinner {\n",
              "    border: 2px solid var(--fill-color);\n",
              "    border-color: transparent;\n",
              "    border-bottom-color: var(--fill-color);\n",
              "    animation:\n",
              "      spin 1s steps(1) infinite;\n",
              "  }\n",
              "\n",
              "  @keyframes spin {\n",
              "    0% {\n",
              "      border-color: transparent;\n",
              "      border-bottom-color: var(--fill-color);\n",
              "      border-left-color: var(--fill-color);\n",
              "    }\n",
              "    20% {\n",
              "      border-color: transparent;\n",
              "      border-left-color: var(--fill-color);\n",
              "      border-top-color: var(--fill-color);\n",
              "    }\n",
              "    30% {\n",
              "      border-color: transparent;\n",
              "      border-left-color: var(--fill-color);\n",
              "      border-top-color: var(--fill-color);\n",
              "      border-right-color: var(--fill-color);\n",
              "    }\n",
              "    40% {\n",
              "      border-color: transparent;\n",
              "      border-right-color: var(--fill-color);\n",
              "      border-top-color: var(--fill-color);\n",
              "    }\n",
              "    60% {\n",
              "      border-color: transparent;\n",
              "      border-right-color: var(--fill-color);\n",
              "    }\n",
              "    80% {\n",
              "      border-color: transparent;\n",
              "      border-right-color: var(--fill-color);\n",
              "      border-bottom-color: var(--fill-color);\n",
              "    }\n",
              "    90% {\n",
              "      border-color: transparent;\n",
              "      border-bottom-color: var(--fill-color);\n",
              "    }\n",
              "  }\n",
              "</style>\n",
              "\n",
              "      <script>\n",
              "        async function quickchart(key) {\n",
              "          const quickchartButtonEl =\n",
              "            document.querySelector('#' + key + ' button');\n",
              "          quickchartButtonEl.disabled = true;  // To prevent multiple clicks.\n",
              "          quickchartButtonEl.classList.add('colab-df-spinner');\n",
              "          try {\n",
              "            const charts = await google.colab.kernel.invokeFunction(\n",
              "                'suggestCharts', [key], {});\n",
              "          } catch (error) {\n",
              "            console.error('Error during call to suggestCharts:', error);\n",
              "          }\n",
              "          quickchartButtonEl.classList.remove('colab-df-spinner');\n",
              "          quickchartButtonEl.classList.add('colab-df-quickchart-complete');\n",
              "        }\n",
              "        (() => {\n",
              "          let quickchartButtonEl =\n",
              "            document.querySelector('#df-ed23b624-78fc-434a-8f3e-dff1efe40169 button');\n",
              "          quickchartButtonEl.style.display =\n",
              "            google.colab.kernel.accessAllowed ? 'block' : 'none';\n",
              "        })();\n",
              "      </script>\n",
              "    </div>\n",
              "\n",
              "  <div id=\"id_5e9db5db-c5e9-473f-a528-13996a815707\">\n",
              "    <style>\n",
              "      .colab-df-generate {\n",
              "        background-color: #E8F0FE;\n",
              "        border: none;\n",
              "        border-radius: 50%;\n",
              "        cursor: pointer;\n",
              "        display: none;\n",
              "        fill: #1967D2;\n",
              "        height: 32px;\n",
              "        padding: 0 0 0 0;\n",
              "        width: 32px;\n",
              "      }\n",
              "\n",
              "      .colab-df-generate:hover {\n",
              "        background-color: #E2EBFA;\n",
              "        box-shadow: 0px 1px 2px rgba(60, 64, 67, 0.3), 0px 1px 3px 1px rgba(60, 64, 67, 0.15);\n",
              "        fill: #174EA6;\n",
              "      }\n",
              "\n",
              "      [theme=dark] .colab-df-generate {\n",
              "        background-color: #3B4455;\n",
              "        fill: #D2E3FC;\n",
              "      }\n",
              "\n",
              "      [theme=dark] .colab-df-generate:hover {\n",
              "        background-color: #434B5C;\n",
              "        box-shadow: 0px 1px 3px 1px rgba(0, 0, 0, 0.15);\n",
              "        filter: drop-shadow(0px 1px 2px rgba(0, 0, 0, 0.3));\n",
              "        fill: #FFFFFF;\n",
              "      }\n",
              "    </style>\n",
              "    <button class=\"colab-df-generate\" onclick=\"generateWithVariable('scores')\"\n",
              "            title=\"Generate code using this dataframe.\"\n",
              "            style=\"display:none;\">\n",
              "\n",
              "  <svg xmlns=\"http://www.w3.org/2000/svg\" height=\"24px\"viewBox=\"0 0 24 24\"\n",
              "       width=\"24px\">\n",
              "    <path d=\"M7,19H8.4L18.45,9,17,7.55,7,17.6ZM5,21V16.75L18.45,3.32a2,2,0,0,1,2.83,0l1.4,1.43a1.91,1.91,0,0,1,.58,1.4,1.91,1.91,0,0,1-.58,1.4L9.25,21ZM18.45,9,17,7.55Zm-12,3A5.31,5.31,0,0,0,4.9,8.1,5.31,5.31,0,0,0,1,6.5,5.31,5.31,0,0,0,4.9,4.9,5.31,5.31,0,0,0,6.5,1,5.31,5.31,0,0,0,8.1,4.9,5.31,5.31,0,0,0,12,6.5,5.46,5.46,0,0,0,6.5,12Z\"/>\n",
              "  </svg>\n",
              "    </button>\n",
              "    <script>\n",
              "      (() => {\n",
              "      const buttonEl =\n",
              "        document.querySelector('#id_5e9db5db-c5e9-473f-a528-13996a815707 button.colab-df-generate');\n",
              "      buttonEl.style.display =\n",
              "        google.colab.kernel.accessAllowed ? 'block' : 'none';\n",
              "\n",
              "      buttonEl.onclick = () => {\n",
              "        google.colab.notebook.generateWithVariable('scores');\n",
              "      }\n",
              "      })();\n",
              "    </script>\n",
              "  </div>\n",
              "\n",
              "    </div>\n",
              "  </div>\n"
            ],
            "application/vnd.google.colaboratory.intrinsic+json": {
              "type": "dataframe",
              "variable_name": "scores",
              "repr_error": "Out of range float values are not JSON compliant: nan"
            }
          },
          "metadata": {},
          "execution_count": 62
        }
      ],
      "source": [
        "scores['Mean'] = scores.mean(axis=1)\n",
        "scores"
      ]
    },
    {
      "cell_type": "markdown",
      "id": "733435af",
      "metadata": {
        "id": "733435af"
      },
      "source": [
        "Visualize a confusion matrix for all folds of data to evaluate the classifier's performance. Here and further we use the following function."
      ]
    },
    {
      "cell_type": "code",
      "execution_count": 63,
      "id": "395b25b8",
      "metadata": {
        "id": "395b25b8"
      },
      "outputs": [],
      "source": [
        "def plot_confusion_matrix(y_eval: np.ndarray, y_pred: np.ndarray, labels: List[str]) -> None:\n",
        "    # Get the confusion matrix for the last fold of data.\n",
        "    confusion_matrix = metrics.confusion_matrix(y_eval, y_pred)\n",
        "\n",
        "    # Evaluate accuracy and misclassification scores.\n",
        "    accuracy = np.trace(confusion_matrix) / float(np.sum(confusion_matrix))\n",
        "    misclass = 1 - accuracy\n",
        "\n",
        "    # Plot the confusion matrix.\n",
        "    metrics.ConfusionMatrixDisplay.from_predictions(\n",
        "        y_eval, y_pred, display_labels=labels,\n",
        "        xticks_rotation='vertical', cmap='Blues')\n",
        "    plt.xlabel('Predicted label\\n\\naccuracy={:0.4f}; misclass={:0.4f}'.format(\n",
        "        accuracy, misclass))\n",
        "    plt.title('Confusion Matrix')\n",
        "    plt.show()"
      ]
    },
    {
      "cell_type": "code",
      "execution_count": 64,
      "id": "afce1194",
      "metadata": {
        "id": "afce1194",
        "outputId": "8251de74-9d7f-4581-d1e6-a5c079b17940",
        "colab": {
          "base_uri": "https://localhost:8080/",
          "height": 876
        }
      },
      "outputs": [
        {
          "output_type": "stream",
          "name": "stderr",
          "text": [
            "<ipython-input-63-e8ca1ad4c80d>:6: RuntimeWarning: invalid value encountered in divide\n",
            "  accuracy = np.trace(confusion_matrix) / float(np.sum(confusion_matrix))\n",
            "/usr/local/lib/python3.11/dist-packages/sklearn/metrics/_plot/confusion_matrix.py:152: UserWarning: Attempting to set identical low and high xlims makes transformation singular; automatically expanding.\n",
            "  self.im_ = ax.imshow(cm, **im_kw)\n",
            "/usr/local/lib/python3.11/dist-packages/sklearn/metrics/_plot/confusion_matrix.py:152: UserWarning: Attempting to set identical low and high ylims makes transformation singular; automatically expanding.\n",
            "  self.im_ = ax.imshow(cm, **im_kw)\n"
          ]
        },
        {
          "output_type": "error",
          "ename": "ValueError",
          "evalue": "zero-size array to reduction operation maximum which has no identity",
          "traceback": [
            "\u001b[0;31m---------------------------------------------------------------------------\u001b[0m",
            "\u001b[0;31mValueError\u001b[0m                                Traceback (most recent call last)",
            "\u001b[0;32m<ipython-input-64-9ec3f5bdaf47>\u001b[0m in \u001b[0;36m<cell line: 0>\u001b[0;34m()\u001b[0m\n\u001b[0;32m----> 1\u001b[0;31m plot_confusion_matrix(actual_targets, predicted_targets, [\n\u001b[0m\u001b[1;32m      2\u001b[0m                       'BENIGN', 'Web Attack - Brute Force', 'Web Attack - Sql Injection', 'Web Attack - XSS'])\n",
            "\u001b[0;32m<ipython-input-63-e8ca1ad4c80d>\u001b[0m in \u001b[0;36mplot_confusion_matrix\u001b[0;34m(y_eval, y_pred, labels)\u001b[0m\n\u001b[1;32m      8\u001b[0m \u001b[0;34m\u001b[0m\u001b[0m\n\u001b[1;32m      9\u001b[0m     \u001b[0;31m# Plot the confusion matrix.\u001b[0m\u001b[0;34m\u001b[0m\u001b[0;34m\u001b[0m\u001b[0m\n\u001b[0;32m---> 10\u001b[0;31m     metrics.ConfusionMatrixDisplay.from_predictions(\n\u001b[0m\u001b[1;32m     11\u001b[0m         \u001b[0my_eval\u001b[0m\u001b[0;34m,\u001b[0m \u001b[0my_pred\u001b[0m\u001b[0;34m,\u001b[0m \u001b[0mdisplay_labels\u001b[0m\u001b[0;34m=\u001b[0m\u001b[0mlabels\u001b[0m\u001b[0;34m,\u001b[0m\u001b[0;34m\u001b[0m\u001b[0;34m\u001b[0m\u001b[0m\n\u001b[1;32m     12\u001b[0m         xticks_rotation='vertical', cmap='Blues')\n",
            "\u001b[0;32m/usr/local/lib/python3.11/dist-packages/sklearn/metrics/_plot/confusion_matrix.py\u001b[0m in \u001b[0;36mfrom_predictions\u001b[0;34m(cls, y_true, y_pred, labels, sample_weight, normalize, display_labels, include_values, xticks_rotation, values_format, cmap, ax, colorbar, im_kw, text_kw)\u001b[0m\n\u001b[1;32m    475\u001b[0m         \u001b[0mdisp\u001b[0m \u001b[0;34m=\u001b[0m \u001b[0mcls\u001b[0m\u001b[0;34m(\u001b[0m\u001b[0mconfusion_matrix\u001b[0m\u001b[0;34m=\u001b[0m\u001b[0mcm\u001b[0m\u001b[0;34m,\u001b[0m \u001b[0mdisplay_labels\u001b[0m\u001b[0;34m=\u001b[0m\u001b[0mdisplay_labels\u001b[0m\u001b[0;34m)\u001b[0m\u001b[0;34m\u001b[0m\u001b[0;34m\u001b[0m\u001b[0m\n\u001b[1;32m    476\u001b[0m \u001b[0;34m\u001b[0m\u001b[0m\n\u001b[0;32m--> 477\u001b[0;31m         return disp.plot(\n\u001b[0m\u001b[1;32m    478\u001b[0m             \u001b[0minclude_values\u001b[0m\u001b[0;34m=\u001b[0m\u001b[0minclude_values\u001b[0m\u001b[0;34m,\u001b[0m\u001b[0;34m\u001b[0m\u001b[0;34m\u001b[0m\u001b[0m\n\u001b[1;32m    479\u001b[0m             \u001b[0mcmap\u001b[0m\u001b[0;34m=\u001b[0m\u001b[0mcmap\u001b[0m\u001b[0;34m,\u001b[0m\u001b[0;34m\u001b[0m\u001b[0;34m\u001b[0m\u001b[0m\n",
            "\u001b[0;32m/usr/local/lib/python3.11/dist-packages/sklearn/metrics/_plot/confusion_matrix.py\u001b[0m in \u001b[0;36mplot\u001b[0;34m(self, include_values, cmap, xticks_rotation, values_format, ax, colorbar, im_kw, text_kw)\u001b[0m\n\u001b[1;32m    158\u001b[0m \u001b[0;34m\u001b[0m\u001b[0m\n\u001b[1;32m    159\u001b[0m             \u001b[0;31m# print text with appropriate color depending on background\u001b[0m\u001b[0;34m\u001b[0m\u001b[0;34m\u001b[0m\u001b[0m\n\u001b[0;32m--> 160\u001b[0;31m             \u001b[0mthresh\u001b[0m \u001b[0;34m=\u001b[0m \u001b[0;34m(\u001b[0m\u001b[0mcm\u001b[0m\u001b[0;34m.\u001b[0m\u001b[0mmax\u001b[0m\u001b[0;34m(\u001b[0m\u001b[0;34m)\u001b[0m \u001b[0;34m+\u001b[0m \u001b[0mcm\u001b[0m\u001b[0;34m.\u001b[0m\u001b[0mmin\u001b[0m\u001b[0;34m(\u001b[0m\u001b[0;34m)\u001b[0m\u001b[0;34m)\u001b[0m \u001b[0;34m/\u001b[0m \u001b[0;36m2.0\u001b[0m\u001b[0;34m\u001b[0m\u001b[0;34m\u001b[0m\u001b[0m\n\u001b[0m\u001b[1;32m    161\u001b[0m \u001b[0;34m\u001b[0m\u001b[0m\n\u001b[1;32m    162\u001b[0m             \u001b[0;32mfor\u001b[0m \u001b[0mi\u001b[0m\u001b[0;34m,\u001b[0m \u001b[0mj\u001b[0m \u001b[0;32min\u001b[0m \u001b[0mproduct\u001b[0m\u001b[0;34m(\u001b[0m\u001b[0mrange\u001b[0m\u001b[0;34m(\u001b[0m\u001b[0mn_classes\u001b[0m\u001b[0;34m)\u001b[0m\u001b[0;34m,\u001b[0m \u001b[0mrange\u001b[0m\u001b[0;34m(\u001b[0m\u001b[0mn_classes\u001b[0m\u001b[0;34m)\u001b[0m\u001b[0;34m)\u001b[0m\u001b[0;34m:\u001b[0m\u001b[0;34m\u001b[0m\u001b[0;34m\u001b[0m\u001b[0m\n",
            "\u001b[0;32m/usr/local/lib/python3.11/dist-packages/numpy/_core/_methods.py\u001b[0m in \u001b[0;36m_amax\u001b[0;34m(a, axis, out, keepdims, initial, where)\u001b[0m\n\u001b[1;32m     42\u001b[0m def _amax(a, axis=None, out=None, keepdims=False,\n\u001b[1;32m     43\u001b[0m           initial=_NoValue, where=True):\n\u001b[0;32m---> 44\u001b[0;31m     \u001b[0;32mreturn\u001b[0m \u001b[0mumr_maximum\u001b[0m\u001b[0;34m(\u001b[0m\u001b[0ma\u001b[0m\u001b[0;34m,\u001b[0m \u001b[0maxis\u001b[0m\u001b[0;34m,\u001b[0m \u001b[0;32mNone\u001b[0m\u001b[0;34m,\u001b[0m \u001b[0mout\u001b[0m\u001b[0;34m,\u001b[0m \u001b[0mkeepdims\u001b[0m\u001b[0;34m,\u001b[0m \u001b[0minitial\u001b[0m\u001b[0;34m,\u001b[0m \u001b[0mwhere\u001b[0m\u001b[0;34m)\u001b[0m\u001b[0;34m\u001b[0m\u001b[0;34m\u001b[0m\u001b[0m\n\u001b[0m\u001b[1;32m     45\u001b[0m \u001b[0;34m\u001b[0m\u001b[0m\n\u001b[1;32m     46\u001b[0m def _amin(a, axis=None, out=None, keepdims=False,\n",
            "\u001b[0;31mValueError\u001b[0m: zero-size array to reduction operation maximum which has no identity"
          ]
        },
        {
          "output_type": "display_data",
          "data": {
            "text/plain": [
              "<Figure size 640x480 with 1 Axes>"
            ],
            "image/png": "[encoded data removed]"
          },
          "metadata": {}
        }
      ],
      "source": [
        "plot_confusion_matrix(actual_targets, predicted_targets, [\n",
        "                      'BENIGN', 'Web Attack - Brute Force', 'Web Attack - Sql Injection', 'Web Attack - XSS'])"
      ]
    },
    {
      "cell_type": "markdown",
      "id": "78a9eb56",
      "metadata": {
        "id": "78a9eb56"
      },
      "source": [
        "From the above confusion matrix, we can conclude that the model is mostly adequate in identifying benign traffic and brute force attacks."
      ]
    },
    {
      "cell_type": "markdown",
      "id": "9498ea3b",
      "metadata": {
        "id": "9498ea3b"
      },
      "source": [
        "## Comparison to Random Forest model"
      ]
    },
    {
      "cell_type": "markdown",
      "id": "7fe9ad46",
      "metadata": {
        "id": "7fe9ad46"
      },
      "source": [
        "Download and open our previously developed model for this dataset: Random Forest (see https://colab.research.google.com/github/fisher85/ml-cybersecurity/blob/master/python-web-attack-detection/web-attack-detection.ipynb)."
      ]
    },
    {
      "cell_type": "code",
      "execution_count": 65,
      "id": "26215acb",
      "metadata": {
        "id": "26215acb",
        "outputId": "d131ae63-c84e-45c0-d393-b8cea9b36408",
        "colab": {
          "base_uri": "https://localhost:8080/"
        }
      },
      "outputs": [
        {
          "output_type": "stream",
          "name": "stdout",
          "text": [
            "--2025-05-19 10:45:42--  https://github.com/fisher85/ml-cybersecurity/blob/master/python-web-attack-detection/webattack_detection_rf_model.pkl?raw=true\n",
            "Resolving github.com (github.com)... 140.82.112.4\n",
            "Connecting to github.com (github.com)|140.82.112.4|:443... connected.\n",
            "HTTP request sent, awaiting response... 302 Found\n",
            "Location: https://github.com/fisher85/ml-cybersecurity/raw/refs/heads/master/python-web-attack-detection/webattack_detection_rf_model.pkl [following]\n",
            "--2025-05-19 10:45:42--  https://github.com/fisher85/ml-cybersecurity/raw/refs/heads/master/python-web-attack-detection/webattack_detection_rf_model.pkl\n",
            "Reusing existing connection to github.com:443.\n",
            "HTTP request sent, awaiting response... 302 Found\n",
            "Location: https://raw.githubusercontent.com/fisher85/ml-cybersecurity/refs/heads/master/python-web-attack-detection/webattack_detection_rf_model.pkl [following]\n",
            "--2025-05-19 10:45:42--  https://raw.githubusercontent.com/fisher85/ml-cybersecurity/refs/heads/master/python-web-attack-detection/webattack_detection_rf_model.pkl\n",
            "Resolving raw.githubusercontent.com (raw.githubusercontent.com)... 185.199.108.133, 185.199.109.133, 185.199.110.133, ...\n",
            "Connecting to raw.githubusercontent.com (raw.githubusercontent.com)|185.199.108.133|:443... connected.\n",
            "HTTP request sent, awaiting response... 200 OK\n",
            "Length: 547891 (535K) [application/octet-stream]\n",
            "Saving to: ‘webattack_detection_rf_model.pkl’\n",
            "\n",
            "webattack_detection 100%[===================>] 535.05K  --.-KB/s    in 0.04s   \n",
            "\n",
            "2025-05-19 10:45:43 (14.3 MB/s) - ‘webattack_detection_rf_model.pkl’ saved [547891/547891]\n",
            "\n"
          ]
        }
      ],
      "source": [
        "!wget https://github.com/fisher85/ml-cybersecurity/blob/master/python-web-attack-detection/webattack_detection_rf_model.pkl?raw=true -O webattack_detection_rf_model.pkl"
      ]
    },
    {
      "cell_type": "code",
      "execution_count": null,
      "id": "35ebc9d6",
      "metadata": {
        "id": "35ebc9d6",
        "outputId": "54ad0727-bad5-4446-822b-40801e483f43",
        "colab": {
          "base_uri": "https://localhost:8080/"
        }
      },
      "outputs": [
        {
          "output_type": "stream",
          "name": "stdout",
          "text": [
            "Found existing installation: scikit-learn 1.6.1\n",
            "Uninstalling scikit-learn-1.6.1:\n",
            "  Successfully uninstalled scikit-learn-1.6.1\n",
            "Collecting scikit-learn==0.24.2\n",
            "  Downloading scikit-learn-0.24.2.tar.gz (7.5 MB)\n",
            "\u001b[2K     \u001b[90m━━━━━━━━━━━━━━━━━━━━━━━━━━━━━━━━━━━━━━━━\u001b[0m \u001b[32m7.5/7.5 MB\u001b[0m \u001b[31m79.9 MB/s\u001b[0m eta \u001b[36m0:00:00\u001b[0m\n",
            "\u001b[?25h  Installing build dependencies ... \u001b[?25l\u001b[?25hdone\n",
            "  Getting requirements to build wheel ... \u001b[?25l\u001b[?25hdone\n"
          ]
        }
      ],
      "source": [
        "import pickle\n",
        "import sys\n",
        "import time\n",
        "from typing import List, Tuple\n",
        "\n",
        "import matplotlib.pyplot as plt\n",
        "import numpy as np\n",
        "import pandas as pd\n",
        "from sklearn import metrics\n",
        "from sklearn.model_selection import StratifiedKFold\n",
        "from sklearn.model_selection import train_test_split\n",
        "import sklearn.preprocessing\n",
        "import tensorflow as tf\n",
        "import tensorflow.keras\n",
        "from tensorflow.keras.layers import Dense, Dropout, Activation\n",
        "from tensorflow.keras.layers import LSTM, Bidirectional, BatchNormalization, Convolution1D, MaxPooling1D, Reshape\n",
        "from tensorflow.keras.models import Sequential\n",
        "\n",
        "%matplotlib inline\n",
        "\n",
        "# Install a specific version of scikit-learn that might be compatible with the pickle file\n",
        "# This might involve uninstalling the current version first\n",
        "!pip uninstall scikit-learn -y\n",
        "!pip install scikit-learn==0.24.2\n",
        "\n",
        "# Import scikit-learn after installing the specific version\n",
        "import sklearn\n",
        "\n",
        "# Check the installed version to confirm\n",
        "print(f\"Installed scikit-learn version: {sklearn.__version__}\")\n",
        "\n",
        "# Load the pickle file\n",
        "with open('webattack_detection_rf_model.pkl', 'rb') as f:\n",
        "    rfc = pickle.load(f)\n",
        "\n",
        "# Print the loaded model to verify\n",
        "rfc"
      ]
    },
    {
      "cell_type": "markdown",
      "id": "3327a0cb",
      "metadata": {
        "id": "3327a0cb"
      },
      "source": [
        "We use the indices of the final fold of Stratified K-Folds cross-validation to split the dataset into a training set with 80% of all the samples and test set with 20% of all the samples, preserving the percentage of samples for each class.\n",
        "\n",
        "Our Random Forest model does not need feature scaling and uses only selected features, so we need to get correct feature vectors."
      ]
    },
    {
      "cell_type": "code",
      "execution_count": null,
      "id": "f8e4d339",
      "metadata": {
        "id": "f8e4d339"
      },
      "outputs": [],
      "source": [
        "columns = ['Average Packet Size',\n",
        "           'Flow Bytes/s',\n",
        "           'Max Packet Length',\n",
        "           'Fwd Packet Length Mean',\n",
        "           'Fwd IAT Min',\n",
        "           'Total Length of Fwd Packets',\n",
        "           'Flow IAT Mean',\n",
        "           'Fwd Packet Length Max',\n",
        "           'Fwd IAT Std',\n",
        "           'Fwd Header Length']\n",
        "X_test = X.iloc[test_index]\n",
        "X_test = X_test[columns]\n",
        "X_test"
      ]
    },
    {
      "cell_type": "markdown",
      "id": "db740a1e",
      "metadata": {
        "id": "db740a1e"
      },
      "source": [
        "Transform categorical labels into numeric form with simple label encoding. Note that our Random Forest model was developed for a binary classification task, so we transform labels accordingly: \"0\" indicates a benign instance and \"1\" an attack."
      ]
    },
    {
      "cell_type": "code",
      "execution_count": null,
      "id": "b34827da",
      "metadata": {
        "id": "b34827da"
      },
      "outputs": [],
      "source": [
        "y_test = y[test_index]\n",
        "y_test = y_test.apply(lambda x: 0 if x == 'BENIGN' else 1).values"
      ]
    },
    {
      "cell_type": "markdown",
      "id": "0749258d",
      "metadata": {
        "id": "0749258d"
      },
      "source": [
        "Get the Random Forest model's evaluation metrics for the final fold of data."
      ]
    },
    {
      "cell_type": "code",
      "execution_count": null,
      "id": "00e65c3b",
      "metadata": {
        "id": "00e65c3b"
      },
      "outputs": [],
      "source": [
        "y_pred_rfc = rfc.predict(X_test.values)\n",
        "\n",
        "metrics_rfc = print_metrics(y_test, y_pred_rfc)\n",
        "plot_confusion_matrix(y_test, y_pred_rfc, ['BENIGN', 'Web Attack'])"
      ]
    },
    {
      "cell_type": "markdown",
      "id": "aab1c0b9",
      "metadata": {
        "id": "aab1c0b9"
      },
      "source": [
        "The Random Forest model is designed for binary classification, whereas the CNN model is designed for multiclass classification. To compare two models correctly, we change the output shape of the neural network model's dense layer so that the neural network predicts only two classes."
      ]
    },
    {
      "cell_type": "code",
      "execution_count": null,
      "id": "e31b7320",
      "metadata": {
        "id": "e31b7320"
      },
      "outputs": [],
      "source": [
        "batch_size = 32\n",
        "model = Sequential()\n",
        "model.add(Convolution1D(64, kernel_size=32, padding=\"same\",\n",
        "          activation=\"relu\", input_shape=(76, 1)))\n",
        "model.add(MaxPooling1D(pool_size=(5)))\n",
        "model.add(BatchNormalization())\n",
        "model.add(Bidirectional(LSTM(64, return_sequences=False)))\n",
        "model.add(Reshape((128, 1), input_shape=(128, )))\n",
        "\n",
        "model.add(MaxPooling1D(pool_size=(5)))\n",
        "model.add(BatchNormalization())\n",
        "model.add(Bidirectional(LSTM(128, return_sequences=False)))\n",
        "\n",
        "model.add(Dropout(0.5))\n",
        "model.add(Dense(2))\n",
        "model.add(Activation('softmax'))\n",
        "model.compile(loss='categorical_crossentropy',\n",
        "              optimizer='adam', metrics=['accuracy'])"
      ]
    },
    {
      "cell_type": "code",
      "execution_count": null,
      "id": "f43e3a0a",
      "metadata": {
        "id": "f43e3a0a"
      },
      "outputs": [],
      "source": [
        "model.summary(line_length=100)"
      ]
    },
    {
      "cell_type": "markdown",
      "id": "1d114888",
      "metadata": {
        "id": "1d114888"
      },
      "source": [
        "Train the modified neural network on the final fold of data."
      ]
    },
    {
      "cell_type": "code",
      "execution_count": null,
      "id": "0c6b0bb0",
      "metadata": {
        "id": "0c6b0bb0"
      },
      "outputs": [],
      "source": [
        "# Transform categorical labels into numeric form.\n",
        "y = data['Label'].apply(lambda x: 0 if x == 'BENIGN' else 1).values\n",
        "\n",
        "y_eval, y_pred = train_and_validate(\n",
        "    model, X, y, train_index, test_index, scaler)"
      ]
    },
    {
      "cell_type": "markdown",
      "id": "1c47ccd2",
      "metadata": {
        "id": "1c47ccd2"
      },
      "source": [
        "Get the CNN-BiLSTM model's evaluation metrics for binary classification."
      ]
    },
    {
      "cell_type": "code",
      "execution_count": null,
      "id": "2b26f48d",
      "metadata": {
        "id": "2b26f48d"
      },
      "outputs": [],
      "source": [
        "metrics_nn = print_metrics(y_eval, y_pred)\n",
        "plot_confusion_matrix(y_eval, y_pred, ['BENIGN', 'Web Attack'])"
      ]
    },
    {
      "cell_type": "markdown",
      "id": "47838c2f",
      "metadata": {
        "id": "47838c2f"
      },
      "source": [
        "Finally, compare evaluation metrics for Random Forest and CNN models. Here we can see that the Random Forest model shows better results than the CNN-BiLSTM model, but the latter shows good results none the less. Further research is needed to achieve the desired performance."
      ]
    },
    {
      "cell_type": "code",
      "execution_count": null,
      "id": "d383cab4",
      "metadata": {
        "id": "d383cab4"
      },
      "outputs": [],
      "source": [
        "# Visualizing the data with a multiple bar chart.\n",
        "\n",
        "# Scale the plot.\n",
        "plt.figure(figsize=[15, 9])\n",
        "plt.gca().set_ylim(0.8, 1)\n",
        "\n",
        "# Get the data for the plot.\n",
        "comparison_frame = pd.DataFrame(\n",
        "    {'CNN-BiLSTM': metrics_nn, 'Random Forest': metrics_rfc},\n",
        "    index=['Accuracy', 'Precision', 'Recall', 'F1'])\n",
        "\n",
        "# Set the width of the bars.\n",
        "wd = 0.3\n",
        "x_pos = np.arange(1, 2*len(comparison_frame), 2)\n",
        "\n",
        "# Plotting the multiple bar graphs on the same figure.\n",
        "plt.bar(x_pos, comparison_frame['CNN-BiLSTM'], color='r', width=wd, edgecolor='k',\n",
        "        label='CNN-BiLSTM')\n",
        "plt.bar(x_pos+wd, comparison_frame['Random Forest'], color='y', width=wd, edgecolor='k',\n",
        "        label='Random Forest')\n",
        "\n",
        "# Add ticks, a title, and a legend.\n",
        "plt.xticks(x_pos+wd, comparison_frame.index.values, fontsize=15)\n",
        "plt.yticks(fontsize=15)\n",
        "plt.xlabel('Metric', fontsize=17)\n",
        "plt.ylabel('Value', fontsize=17)\n",
        "plt.title(\n",
        "    \"Performance comparison of CNN-BiLSTM and Random Forest models.\", fontsize=20)\n",
        "plt.legend(loc='best', fontsize=12)\n",
        "\n",
        "plt.show()"
      ]
    }
  ],
  "metadata": {
    "kernelspec": {
      "display_name": "Python 3 (ipykernel)",
      "language": "python",
      "name": "python3"
    },
    "language_info": {
      "codemirror_mode": {
        "name": "ipython",
        "version": 3
      },
      "file_extension": ".py",
      "mimetype": "text/x-python",
      "name": "python",
      "nbconvert_exporter": "python",
      "pygments_lexer": "ipython3",
      "version": "3.9.7"
    },
    "colab": {
      "provenance": []
    }
  },
  "nbformat": 4,
  "nbformat_minor": 5
}